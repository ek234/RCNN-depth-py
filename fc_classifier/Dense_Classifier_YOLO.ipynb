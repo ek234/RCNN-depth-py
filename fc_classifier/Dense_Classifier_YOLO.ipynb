{
 "cells": [
  {
   "cell_type": "code",
   "execution_count": 1,
   "id": "a197b423-0c7e-4d99-8ff1-715f8ad8f00c",
   "metadata": {
    "tags": []
   },
   "outputs": [
    {
     "name": "stderr",
     "output_type": "stream",
     "text": [
      "2023-04-26 17:20:57.766944: I tensorflow/core/platform/cpu_feature_guard.cc:193] This TensorFlow binary is optimized with oneAPI Deep Neural Network Library (oneDNN) to use the following CPU instructions in performance-critical operations:  AVX2 FMA\n",
      "To enable them in other operations, rebuild TensorFlow with the appropriate compiler flags.\n",
      "2023-04-26 17:20:59.825832: W tensorflow/compiler/xla/stream_executor/platform/default/dso_loader.cc:64] Could not load dynamic library 'libnvinfer.so.7'; dlerror: libnvinfer.so.7: cannot open shared object file: No such file or directory; LD_LIBRARY_PATH: /home2/rishabhk/apps/fastjet-install//lib:/home2/rishabhk/apps/root/lib:/home2/rishabhk/apps/fastjet-install//lib:/home2/rishabhk/apps/madgraph/Delphes:/home2/rishabhk/apps/madgraph/Delphes\n",
      "2023-04-26 17:20:59.826040: W tensorflow/compiler/xla/stream_executor/platform/default/dso_loader.cc:64] Could not load dynamic library 'libnvinfer_plugin.so.7'; dlerror: libnvinfer_plugin.so.7: cannot open shared object file: No such file or directory; LD_LIBRARY_PATH: /home2/rishabhk/apps/fastjet-install//lib:/home2/rishabhk/apps/root/lib:/home2/rishabhk/apps/fastjet-install//lib:/home2/rishabhk/apps/madgraph/Delphes:/home2/rishabhk/apps/madgraph/Delphes\n",
      "2023-04-26 17:20:59.826061: W tensorflow/compiler/tf2tensorrt/utils/py_utils.cc:38] TF-TRT Warning: Cannot dlopen some TensorRT libraries. If you would like to use Nvidia GPU with TensorRT, please make sure the missing libraries mentioned above are installed properly.\n"
     ]
    }
   ],
   "source": [
    "import tensorflow as tf\n",
    "import pickle\n",
    "from sklearn.model_selection import train_test_split"
   ]
  },
  {
   "cell_type": "code",
   "execution_count": 2,
   "id": "90abf6d5-83a0-4902-834f-2a9ded76ecca",
   "metadata": {
    "tags": []
   },
   "outputs": [],
   "source": [
    "with open('./all_regions.p', 'rb') as f:\n",
    "    # Load the contents of the file\n",
    "    data = pickle.load(f)"
   ]
  },
  {
   "cell_type": "code",
   "execution_count": 3,
   "id": "ec001950-f94c-4f4b-a9d9-a52d86cf90b3",
   "metadata": {
    "tags": []
   },
   "outputs": [],
   "source": [
    "mapping = {\"book\": 1, \"bottle\": 2, \"cabinet\": 3, \"ceiling\": 4, \"chair\": 5, \"cone\": 6, \"counter\": 7, \"dishwasher\": 8, \"faucet\": 9, \"fire extinguisher\": 10, \"floor\": 11, \"garbage bin\": 12, \"microwave\": 13, \"paper towel dispenser\": 14, \"paper\": 15, \"pot\": 16, \"refridgerator\": 17, \"stove burner\": 18, \"table\": 19, \"unknown\": 20, \"wall\": 21, \"bowl\": 22, \"magnet\": 23, \"sink\": 24, \"air vent\": 25, \"box\": 26, \"door knob\": 27, \"door\": 28, \"scissor\": 29, \"tape dispenser\": 30, \"telephone cord\": 31, \"telephone\": 32, \"track light\": 33, \"cork board\": 34, \"cup\": 35, \"desk\": 36, \"laptop\": 37, \"air duct\": 38, \"basket\": 39, \"camera\": 40, \"pipe\": 41, \"shelves\": 42, \"stacked chairs\": 43, \"styrofoam object\": 44, \"whiteboard\": 45, \"computer\": 46, \"keyboard\": 47, \"ladder\": 48, \"monitor\": 49, \"stand\": 50, \"bar\": 51, \"motion camera\": 52, \"projector screen\": 53, \"speaker\": 54, \"bag\": 55, \"clock\": 56, \"green screen\": 57, \"mantel\": 58, \"window\": 59, \"ball\": 60, \"hole puncher\": 61, \"light\": 62, \"manilla envelope\": 63, \"picture\": 64, \"mail shelf\": 65, \"printer\": 66, \"stapler\": 67, \"fax machine\": 68, \"folder\": 69, \"jar\": 70, \"magazine\": 71, \"ruler\": 72, \"cable modem\": 73, \"fan\": 74, \"file\": 75, \"hand sanitizer\": 76, \"paper rack\": 77, \"vase\": 78, \"air conditioner\": 79, \"blinds\": 80, \"flower\": 81, \"plant\": 82, \"sofa\": 83, \"stereo\": 84, \"books\": 85, \"exit sign\": 86, \"room divider\": 87, \"bookshelf\": 88, \"curtain\": 89, \"projector\": 90, \"modem\": 91, \"wire\": 92, \"water purifier\": 93, \"column\": 94, \"hooks\": 95, \"hanging hooks\": 96, \"pen\": 97, \"electrical outlet\": 98, \"doll\": 99, \"eraser\": 100, \"pencil holder\": 101, \"water carboy\": 102, \"mouse\": 103, \"cable rack\": 104, \"wire rack\": 105, \"flipboard\": 106, \"map\": 107, \"paper cutter\": 108, \"tape\": 109, \"thermostat\": 110, \"heater\": 111, \"circuit breaker box\": 112, \"paper towel\": 113, \"stamp\": 114, \"duster\": 115, \"poster case\": 116, \"whiteboard marker\": 117, \"ethernet jack\": 118, \"pillow\": 119, \"hair brush\": 120, \"makeup brush\": 121, \"mirror\": 122, \"shower curtain\": 123, \"toilet\": 124, \"toiletries bag\": 125, \"toothbrush holder\": 126, \"toothbrush\": 127, \"toothpaste\": 128, \"platter\": 129, \"rug\": 130, \"squeeze tube\": 131, \"shower cap\": 132, \"soap\": 133, \"towel rod\": 134, \"towel\": 135, \"bathtub\": 136, \"candle\": 137, \"tissue box\": 138, \"toilet paper\": 139, \"container\": 140, \"clothes\": 141, \"electric toothbrush\": 142, \"floor mat\": 143, \"lamp\": 144, \"drum\": 145, \"flower pot\": 146, \"banana\": 147, \"candlestick\": 148, \"shoe\": 149, \"stool\": 150, \"urn\": 151, \"earplugs\": 152, \"mailshelf\": 153, \"placemat\": 154, \"excercise ball\": 155, \"alarm clock\": 156, \"bed\": 157, \"night stand\": 158, \"deoderant\": 159, \"headphones\": 160, \"headboard\": 161, \"basketball hoop\": 162, \"foot rest\": 163, \"laundry basket\": 164, \"sock\": 165, \"football\": 166, \"mens suit\": 167, \"cable box\": 168, \"dresser\": 169, \"dvd player\": 170, \"shaver\": 171, \"television\": 172, \"contact lens solution bottle\": 173, \"drawer\": 174, \"remote control\": 175, \"cologne\": 176, \"stuffed animal\": 177, \"lint roller\": 178, \"tray\": 179, \"lock\": 180, \"purse\": 181, \"toy bottle\": 182, \"crate\": 183, \"vasoline\": 184, \"gift wrapping roll\": 185, \"wall decoration\": 186, \"hookah\": 187, \"radio\": 188, \"bicycle\": 189, \"pen box\": 190, \"mask\": 191, \"shorts\": 192, \"hat\": 193, \"hockey glove\": 194, \"hockey stick\": 195, \"vuvuzela\": 196, \"dvd\": 197, \"chessboard\": 198, \"suitcase\": 199, \"calculator\": 200, \"flashcard\": 201, \"staple remover\": 202, \"umbrella\": 203, \"bench\": 204, \"yoga mat\": 205, \"backpack\": 206, \"cd\": 207, \"sign\": 208, \"hangers\": 209, \"notebook\": 210, \"hanger\": 211, \"security camera\": 212, \"folders\": 213, \"clothing hanger\": 214, \"stairs\": 215, \"glass rack\": 216, \"saucer\": 217, \"tag\": 218, \"dolly\": 219, \"machine\": 220, \"trolly\": 221, \"shopping baskets\": 222, \"gate\": 223, \"bookrack\": 224, \"blackboard\": 225, \"coffee bag\": 226, \"coffee packet\": 227, \"hot water heater\": 228, \"muffins\": 229, \"napkin dispenser\": 230, \"plaque\": 231, \"plastic tub\": 232, \"plate\": 233, \"coffee machine\": 234, \"napkin holder\": 235, \"radiator\": 236, \"coffee grinder\": 237, \"oven\": 238, \"plant pot\": 239, \"scarf\": 240, \"spice rack\": 241, \"stove\": 242, \"tea kettle\": 243, \"napkin\": 244, \"bag of chips\": 245, \"bread\": 246, \"cutting board\": 247, \"dish brush\": 248, \"serving spoon\": 249, \"sponge\": 250, \"toaster\": 251, \"cooking pan\": 252, \"kitchen items\": 253, \"ladel\": 254, \"spatula\": 255, \"spice stand\": 256, \"trivet\": 257, \"knife rack\": 258, \"knife\": 259, \"baking dish\": 260, \"dish scrubber\": 261, \"drying rack\": 262, \"vessel\": 263, \"kichen towel\": 264, \"tin foil\": 265, \"kitchen utensil\": 266, \"utensil\": 267, \"blender\": 268, \"garbage bag\": 269, \"sink protector\": 270, \"box of ziplock bags\": 271, \"spice bottle\": 272, \"pitcher\": 273, \"pizza box\": 274, \"toaster oven\": 275, \"step stool\": 276, \"vegetable peeler\": 277, \"washing machine\": 278, \"can opener\": 279, \"can of food\": 280, \"paper towel holder\": 281, \"spoon stand\": 282, \"spoon\": 283, \"wooden kitchen utensils\": 284, \"bag of flour\": 285, \"fruit\": 286, \"sheet of metal\": 287, \"waffle maker\": 288, \"cake\": 289, \"cell phone\": 290, \"tv stand\": 291, \"tablecloth\": 292, \"wine glass\": 293, \"sculpture\": 294, \"wall stand\": 295, \"iphone\": 296, \"coke bottle\": 297, \"piano\": 298, \"wine rack\": 299, \"guitar\": 300, \"light switch\": 301, \"shirts in hanger\": 302, \"router\": 303, \"glass pot\": 304, \"cart\": 305, \"vacuum cleaner\": 306, \"bin\": 307, \"coins\": 308, \"hand sculpture\": 309, \"ipod\": 310, \"jersey\": 311, \"blanket\": 312, \"ironing board\": 313, \"pen stand\": 314, \"mens tie\": 315, \"glass baking dish\": 316, \"utensils\": 317, \"frying pan\": 318, \"shopping cart\": 319, \"plastic bowl\": 320, \"wooden container\": 321, \"onion\": 322, \"potato\": 323, \"jacket\": 324, \"dvds\": 325, \"surge protector\": 326, \"tumbler\": 327, \"broom\": 328, \"can\": 329, \"crock pot\": 330, \"person\": 331, \"salt shaker\": 332, \"wine bottle\": 333, \"apple\": 334, \"eye glasses\": 335, \"menorah\": 336, \"bicycle helmet\": 337, \"fire alarm\": 338, \"water fountain\": 339, \"humidifier\": 340, \"necklace\": 341, \"chandelier\": 342, \"barrel\": 343, \"chest\": 344, \"decanter\": 345, \"wooden utensils\": 346, \"globe\": 347, \"sheets\": 348, \"fork\": 349, \"napkin ring\": 350, \"gift wrapping\": 351, \"bed sheets\": 352, \"spot light\": 353, \"lighting track\": 354, \"cannister\": 355, \"coffee table\": 356, \"mortar and pestle\": 357, \"stack of plates\": 358, \"ottoman\": 359, \"server\": 360, \"salt container\": 361, \"utensil container\": 362, \"phone jack\": 363, \"switchbox\": 364, \"casserole dish\": 365, \"oven handle\": 366, \"whisk\": 367, \"dish cover\": 368, \"electric mixer\": 369, \"decorative platter\": 370, \"drawer handle\": 371, \"fireplace\": 372, \"stroller\": 373, \"bookend\": 374, \"table runner\": 375, \"typewriter\": 376, \"ashtray\": 377, \"key\": 378, \"suit jacket\": 379, \"range hood\": 380, \"cleaning wipes\": 381, \"six pack of beer\": 382, \"decorative plate\": 383, \"watch\": 384, \"balloon\": 385, \"ipad\": 386, \"coaster\": 387, \"whiteboard eraser\": 388, \"toy\": 389, \"toys basket\": 390, \"toy truck\": 391, \"classroom board\": 392, \"chart stand\": 393, \"picture of fish\": 394, \"plastic box\": 395, \"pencil\": 396, \"carton\": 397, \"walkie talkie\": 398, \"binder\": 399, \"coat hanger\": 400, \"filing shelves\": 401, \"plastic crate\": 402, \"plastic rack\": 403, \"plastic tray\": 404, \"flag\": 405, \"poster board\": 406, \"lunch bag\": 407, \"board\": 408, \"leg of a girl\": 409, \"file holder\": 410, \"chart\": 411, \"glass pane\": 412, \"cardboard tube\": 413, \"bassinet\": 414, \"toy car\": 415, \"toy shelf\": 416, \"toy bin\": 417, \"toys shelf\": 418, \"educational display\": 419, \"placard\": 420, \"soft toy group\": 421, \"soft toy\": 422, \"toy cube\": 423, \"toy cylinder\": 424, \"toy rectangle\": 425, \"toy triangle\": 426, \"bucket\": 427, \"chalkboard\": 428, \"game table\": 429, \"storage shelvesbooks\": 430, \"toy cuboid\": 431, \"toy tree\": 432, \"wooden toy\": 433, \"toy box\": 434, \"toy phone\": 435, \"toy sink\": 436, \"toyhouse\": 437, \"notecards\": 438, \"toy trucks\": 439, \"wall hand sanitizer dispenser\": 440, \"cap stand\": 441, \"music stereo\": 442, \"toys rack\": 443, \"display board\": 444, \"lid of jar\": 445, \"stacked bins  boxes\": 446, \"stacked plastic racks\": 447, \"storage rack\": 448, \"roll of paper towels\": 449, \"cables\": 450, \"power surge\": 451, \"cardboard sheet\": 452, \"banister\": 453, \"show piece\": 454, \"pepper shaker\": 455, \"kitchen island\": 456, \"excercise equipment\": 457, \"treadmill\": 458, \"ornamental plant\": 459, \"piano bench\": 460, \"sheet music\": 461, \"grandfather clock\": 462, \"iron grill\": 463, \"pen holder\": 464, \"toy doll\": 465, \"globe stand\": 466, \"telescope\": 467, \"magazine holder\": 468, \"file container\": 469, \"paper holder\": 470, \"flower box\": 471, \"pyramid\": 472, \"desk mat\": 473, \"cordless phone\": 474, \"desk drawer\": 475, \"envelope\": 476, \"window frame\": 477, \"id card\": 478, \"file stand\": 479, \"paper weight\": 480, \"toy plane\": 481, \"money\": 482, \"papers\": 483, \"comforter\": 484, \"crib\": 485, \"doll house\": 486, \"toy chair\": 487, \"toy sofa\": 488, \"plastic chair\": 489, \"toy house\": 490, \"child carrier\": 491, \"cloth bag\": 492, \"cradle\": 493, \"baby chair\": 494, \"chart roll\": 495, \"toys box\": 496, \"railing\": 497, \"clothing dryer\": 498, \"clothing washer\": 499, \"laundry detergent jug\": 500, \"clothing detergent\": 501, \"bottle of soap\": 502, \"box of paper\": 503, \"trolley\": 504, \"hand sanitizer dispenser\": 505, \"soap holder\": 506, \"water dispenser\": 507, \"photo\": 508, \"water cooler\": 509, \"foosball table\": 510, \"crayon\": 511, \"hoola hoop\": 512, \"horse toy\": 513, \"plastic toy container\": 514, \"pool table\": 515, \"game system\": 516, \"pool sticks\": 517, \"console system\": 518, \"video game\": 519, \"pool ball\": 520, \"trampoline\": 521, \"tricycle\": 522, \"wii\": 523, \"furniture\": 524, \"alarm\": 525, \"toy table\": 526, \"ornamental item\": 527, \"copper vessel\": 528, \"stick\": 529, \"car\": 530, \"mezuza\": 531, \"toy cash register\": 532, \"lid\": 533, \"paper bundle\": 534, \"business cards\": 535, \"clipboard\": 536, \"flatbed scanner\": 537, \"paper tray\": 538, \"mouse pad\": 539, \"display case\": 540, \"tree sculpture\": 541, \"basketball\": 542, \"fiberglass case\": 543, \"framed certificate\": 544, \"cordless telephone\": 545, \"shofar\": 546, \"trophy\": 547, \"cleaner\": 548, \"cloth drying stand\": 549, \"electric box\": 550, \"furnace\": 551, \"piece of wood\": 552, \"wooden pillar\": 553, \"drying stand\": 554, \"cane\": 555, \"clothing drying rack\": 556, \"iron box\": 557, \"excercise machine\": 558, \"sheet\": 559, \"rope\": 560, \"sticks\": 561, \"wooden planks\": 562, \"toilet plunger\": 563, \"bar of soap\": 564, \"toilet bowl brush\": 565, \"light bulb\": 566, \"drain\": 567, \"faucet handle\": 568, \"nailclipper\": 569, \"shaving cream\": 570, \"rolled carpet\": 571, \"clothing iron\": 572, \"window cover\": 573, \"charger and wire\": 574, \"quilt\": 575, \"mattress\": 576, \"hair dryer\": 577, \"stones\": 578, \"pepper grinder\": 579, \"cat cage\": 580, \"dish rack\": 581, \"curtain rod\": 582, \"calendar\": 583, \"head phones\": 584, \"cd disc\": 585, \"head phone\": 586, \"usb drive\": 587, \"water heater\": 588, \"pan\": 589, \"tuna cans\": 590, \"baby gate\": 591, \"spoon sets\": 592, \"cans of cat food\": 593, \"cat\": 594, \"flower basket\": 595, \"fruit platter\": 596, \"grapefruit\": 597, \"kiwi\": 598, \"hand blender\": 599, \"knobs\": 600, \"vessels\": 601, \"cell phone charger\": 602, \"wire basket\": 603, \"tub of tupperware\": 604, \"candelabra\": 605, \"litter box\": 606, \"shovel\": 607, \"cat bed\": 608, \"door way\": 609, \"belt\": 610, \"surge protect\": 611, \"glass\": 612, \"console controller\": 613, \"shoe rack\": 614, \"door frame\": 615, \"computer disk\": 616, \"briefcase\": 617, \"mail tray\": 618, \"file pad\": 619, \"letter stand\": 620, \"plastic cup of coffee\": 621, \"glass box\": 622, \"ping pong ball\": 623, \"ping pong racket\": 624, \"ping pong table\": 625, \"tennis racket\": 626, \"ping pong racquet\": 627, \"xbox\": 628, \"electric toothbrush base\": 629, \"toilet brush\": 630, \"toiletries\": 631, \"razor\": 632, \"bottle of contact lens solution\": 633, \"contact lens case\": 634, \"cream\": 635, \"glass container\": 636, \"container of skin cream\": 637, \"soap dish\": 638, \"scale\": 639, \"soap stand\": 640, \"cactus\": 641, \"door  window  reflection\": 642, \"ceramic frog\": 643, \"incense candle\": 644, \"storage space\": 645, \"door lock\": 646, \"toilet paper holder\": 647, \"tissue\": 648, \"personal care liquid\": 649, \"shower head\": 650, \"shower knob\": 651, \"knob\": 652, \"cream tube\": 653, \"perfume box\": 654, \"perfume\": 655, \"back scrubber\": 656, \"door facing trimreflection\": 657, \"doorreflection\": 658, \"light switchreflection\": 659, \"medicine tube\": 660, \"wallet\": 661, \"soap tray\": 662, \"door curtain\": 663, \"shower pipe\": 664, \"face wash cream\": 665, \"flashlight\": 666, \"shower base\": 667, \"window shelf\": 668, \"shower hose\": 669, \"toothpaste holder\": 670, \"soap box\": 671, \"incense holder\": 672, \"conch shell\": 673, \"roll of toilet paper\": 674, \"shower tube\": 675, \"bottle of listerine\": 676, \"bottle of hand wash liquid\": 677, \"tea pot\": 678, \"lazy susan\": 679, \"avocado\": 680, \"fruit stand\": 681, \"fruitplate\": 682, \"oil container\": 683, \"package of water\": 684, \"bottle of liquid\": 685, \"door way arch\": 686, \"jug\": 687, \"bulb\": 688, \"bagel\": 689, \"bag of bagels\": 690, \"banana peel\": 691, \"bag of oreo\": 692, \"flask\": 693, \"collander\": 694, \"brick\": 695, \"torch\": 696, \"dog bowl\": 697, \"wooden plank\": 698, \"eggs\": 699, \"grill\": 700, \"dog\": 701, \"chimney\": 702, \"dog cage\": 703, \"orange plastic cap\": 704, \"glass set\": 705, \"vessel set\": 706, \"mellon\": 707, \"aluminium foil\": 708, \"orange\": 709, \"peach\": 710, \"tea coaster\": 711, \"butterfly sculpture\": 712, \"corkscrew\": 713, \"heating tray\": 714, \"food processor\": 715, \"corn\": 716, \"squash\": 717, \"watermellon\": 718, \"vegetables\": 719, \"celery\": 720, \"glass dish\": 721, \"hot dogs\": 722, \"plastic dish\": 723, \"vegetable\": 724, \"sticker\": 725, \"chapstick\": 726, \"sifter\": 727, \"fruit basket\": 728, \"glove\": 729, \"measuring cup\": 730, \"water filter\": 731, \"wine accessory\": 732, \"dishes\": 733, \"file box\": 734, \"ornamental pot\": 735, \"dog toy\": 736, \"salt and pepper\": 737, \"electrical kettle\": 738, \"kitchen container plastic\": 739, \"pineapple\": 740, \"suger jar\": 741, \"steamer\": 742, \"charger\": 743, \"mug holder\": 744, \"orange juicer\": 745, \"juicer\": 746, \"bag of hot dog buns\": 747, \"hamburger bun\": 748, \"mug hanger\": 749, \"bottle of ketchup\": 750, \"toy kitchen\": 751, \"food wrapped on a tray\": 752, \"kitchen utensils\": 753, \"oven mitt\": 754, \"bottle of comet\": 755, \"wooden utensil\": 756, \"decorative dish\": 757, \"handle\": 758, \"label\": 759, \"flask set\": 760, \"cooking pot cover\": 761, \"tupperware\": 762, \"garlic\": 763, \"tissue roll\": 764, \"lemon\": 765, \"wine\": 766, \"decorative bottle\": 767, \"wire tray\": 768, \"tea cannister\": 769, \"clothing hamper\": 770, \"guitar case\": 771, \"wardrobe\": 772, \"boomerang\": 773, \"button\": 774, \"karate belts\": 775, \"medal\": 776, \"window seat\": 777, \"window box\": 778, \"necklace holder\": 779, \"beeper\": 780, \"webcam\": 781, \"fish tank\": 782, \"luggage\": 783, \"life jacket\": 784, \"shoelace\": 785, \"pen cup\": 786, \"eyeball plastic ball\": 787, \"toy pyramid\": 788, \"model boat\": 789, \"certificate\": 790, \"puppy toy\": 791, \"wire board\": 792, \"quill\": 793, \"canister\": 794, \"toy boat\": 795, \"antenna\": 796, \"bean bag\": 797, \"lint comb\": 798, \"travel bag\": 799, \"wall divider\": 800, \"toy chest\": 801, \"headband\": 802, \"luggage rack\": 803, \"bunk bed\": 804, \"lego\": 805, \"yarmulka\": 806, \"package of bedroom sheets\": 807, \"bedding package\": 808, \"comb\": 809, \"dollar bill\": 810, \"pig\": 811, \"storage bin\": 812, \"storage chest\": 813, \"slide\": 814, \"playpen\": 815, \"electronic drumset\": 816, \"ipod dock\": 817, \"microphone\": 818, \"music keyboard\": 819, \"music stand\": 820, \"microphone stand\": 821, \"album\": 822, \"kinect\": 823, \"inkwell\": 824, \"baseball\": 825, \"decorative bowl\": 826, \"book holder\": 827, \"toy horse\": 828, \"desser\": 829, \"toy apple\": 830, \"toy dog\": 831, \"scenary\": 832, \"drawer knob\": 833, \"shoe hanger\": 834, \"tent\": 835, \"figurine\": 836, \"soccer ball\": 837, \"hand weight\": 838, \"magic 8ball\": 839, \"bottle of perfume\": 840, \"sleeping bag\": 841, \"decoration item\": 842, \"envelopes\": 843, \"trinket\": 844, \"hand fan\": 845, \"sculpture of the chrysler building\": 846, \"sculpture of the eiffel tower\": 847, \"sculpture of the empire state building\": 848, \"jeans\": 849, \"garage door\": 850, \"case\": 851, \"rags\": 852, \"decorative item\": 853, \"toy stroller\": 854, \"shelf frame\": 855, \"cat house\": 856, \"can of beer\": 857, \"dog bed\": 858, \"lamp shade\": 859, \"bracelet\": 860, \"reflection of window shutters\": 861, \"decorative egg\": 862, \"indoor fountain\": 863, \"photo album\": 864, \"decorative candle\": 865, \"walkietalkie\": 866, \"serving dish\": 867, \"floor trim\": 868, \"mini display platform\": 869, \"american flag\": 870, \"vhs tapes\": 871, \"throw\": 872, \"newspapers\": 873, \"mantle\": 874, \"package of bottled water\": 875, \"serving platter\": 876, \"display platter\": 877, \"centerpiece\": 878, \"tea box\": 879, \"gold piece\": 880, \"wreathe\": 881, \"lectern\": 882, \"hammer\": 883, \"matchbox\": 884, \"pepper\": 885, \"yellow pepper\": 886, \"duck\": 887, \"eggplant\": 888, \"glass ware\": 889, \"sewing machine\": 890, \"rolled up rug\": 891, \"doily\": 892, \"coffee pot\": 893, \"torah\": 894}\n",
    "class_in_paper = [\"bathtub\", \"bed\", \"bookshelf\", \"box\", \"chair\", \"counter\", \"desk\", \"door\", \"dresser\", \"garbage-bin\", \"lamp\",\"monitor\",\"night-stand\" , \"pillow\", \"sink\", \"sofa\", \"table\", \"television\", \"toilet\" ]"
   ]
  },
  {
   "cell_type": "code",
   "execution_count": 4,
   "id": "89b98064-0182-4e3f-ae41-ce494ad63604",
   "metadata": {
    "tags": []
   },
   "outputs": [],
   "source": [
    "to_keep = []\n",
    "for i in mapping:\n",
    "    if i in class_in_paper:\n",
    "        to_keep.append(mapping[i])\n",
    "class_mapping = {}\n",
    "for i in to_keep:\n",
    "    class_mapping[i] = len(class_mapping)"
   ]
  },
  {
   "cell_type": "code",
   "execution_count": 5,
   "id": "6c1fc100-9b53-4b70-aa92-30a047f03abb",
   "metadata": {
    "tags": []
   },
   "outputs": [],
   "source": [
    "# Get all labels in every image\n",
    "img2class = {}\n",
    "for i in range(1449):\n",
    "    img2class[i] = []\n",
    "    for j in data[str(i)][1]:\n",
    "        if j in to_keep:\n",
    "            img2class[i].append(j)"
   ]
  },
  {
   "cell_type": "code",
   "execution_count": 6,
   "id": "0dfe5f41-b5d2-4506-b8f5-80ef2386c5ff",
   "metadata": {
    "tags": []
   },
   "outputs": [],
   "source": [
    "def gen_img2feature(in_path):\n",
    "    img2feat = {}\n",
    "    for i in range(1449):\n",
    "        with open('./' + in_path + '/' + str(i) +'.pkl', 'rb') as f:\n",
    "            # Load the contents of the file\n",
    "            feat = pickle.load(f)\n",
    "        img2feat[i] = feat\n",
    "    return img2feat"
   ]
  },
  {
   "cell_type": "code",
   "execution_count": 7,
   "id": "213b949e-1a9f-4fe0-b7ce-1088da0311c8",
   "metadata": {},
   "outputs": [],
   "source": [
    "def gen_Xy(class_l, feat_l):\n",
    "    X, y = [], []\n",
    "    for i in feat_l:\n",
    "        for j in class_l[i]:\n",
    "            X.append(feat_l[i])\n",
    "            y.append(class_mapping[j])\n",
    "    return X, y"
   ]
  },
  {
   "cell_type": "markdown",
   "id": "4a6e47c6-b353-4328-aabf-b773ee708622",
   "metadata": {},
   "source": [
    "# Fine-tuned RGB"
   ]
  },
  {
   "cell_type": "code",
   "execution_count": 8,
   "id": "93387248-e39e-4696-bb24-72b1976e1573",
   "metadata": {
    "tags": []
   },
   "outputs": [],
   "source": [
    "img2feat = gen_img2feature(\"pkl_finetuned_RGB\")\n",
    "X, y = gen_Xy(img2class, img2feat)\n",
    "X_train, X_test, y_train, y_test = train_test_split(X, y, test_size=0.2, random_state=42)"
   ]
  },
  {
   "cell_type": "code",
   "execution_count": 9,
   "id": "8264ec7e-f011-46f9-9ba1-23ff9221152d",
   "metadata": {
    "tags": []
   },
   "outputs": [
    {
     "name": "stderr",
     "output_type": "stream",
     "text": [
      "2023-04-26 17:21:06.047048: E tensorflow/compiler/xla/stream_executor/cuda/cuda_driver.cc:267] failed call to cuInit: CUDA_ERROR_NO_DEVICE: no CUDA-capable device is detected\n",
      "2023-04-26 17:21:06.047115: I tensorflow/compiler/xla/stream_executor/cuda/cuda_diagnostics.cc:169] retrieving CUDA diagnostic information for host: gnode012\n",
      "2023-04-26 17:21:06.047137: I tensorflow/compiler/xla/stream_executor/cuda/cuda_diagnostics.cc:176] hostname: gnode012\n",
      "2023-04-26 17:21:06.047253: I tensorflow/compiler/xla/stream_executor/cuda/cuda_diagnostics.cc:200] libcuda reported version is: 510.108.3\n",
      "2023-04-26 17:21:06.047301: I tensorflow/compiler/xla/stream_executor/cuda/cuda_diagnostics.cc:204] kernel reported version is: 510.108.3\n",
      "2023-04-26 17:21:06.047313: I tensorflow/compiler/xla/stream_executor/cuda/cuda_diagnostics.cc:310] kernel version seems to match DSO: 510.108.3\n",
      "2023-04-26 17:21:06.047918: I tensorflow/core/platform/cpu_feature_guard.cc:193] This TensorFlow binary is optimized with oneAPI Deep Neural Network Library (oneDNN) to use the following CPU instructions in performance-critical operations:  AVX2 FMA\n",
      "To enable them in other operations, rebuild TensorFlow with the appropriate compiler flags.\n"
     ]
    },
    {
     "name": "stdout",
     "output_type": "stream",
     "text": [
      "Epoch 1/5\n",
      "807/807 [==============================] - 14s 17ms/step - loss: 2.4889 - accuracy: 0.2588 - val_loss: 2.5835 - val_accuracy: 0.2615\n",
      "Epoch 2/5\n",
      "807/807 [==============================] - 3s 4ms/step - loss: 2.3850 - accuracy: 0.2800 - val_loss: 2.3650 - val_accuracy: 0.2918\n",
      "Epoch 3/5\n",
      "807/807 [==============================] - 3s 4ms/step - loss: 2.2947 - accuracy: 0.2986 - val_loss: 2.3328 - val_accuracy: 0.2989\n",
      "Epoch 4/5\n",
      "807/807 [==============================] - 3s 4ms/step - loss: 2.2092 - accuracy: 0.3177 - val_loss: 2.2502 - val_accuracy: 0.3079\n",
      "Epoch 5/5\n",
      "807/807 [==============================] - 3s 4ms/step - loss: 2.1388 - accuracy: 0.3344 - val_loss: 2.1915 - val_accuracy: 0.3253\n"
     ]
    }
   ],
   "source": [
    "# Define the model architecture\n",
    "model = tf.keras.Sequential([\n",
    "    tf.keras.layers.Dense(512, input_shape=(1000, )),\n",
    "    tf.keras.layers.Dense(128, activation='relu'),  \n",
    "    tf.keras.layers.Dense(len(to_keep), activation='softmax')  \n",
    "])\n",
    "\n",
    "# Compile the model\n",
    "model.compile(optimizer='adam',\n",
    "              loss='sparse_categorical_crossentropy',\n",
    "              metrics=['accuracy'])\n",
    "\n",
    "# Train the model\n",
    "history = model.fit(X_train, y_train, epochs=5, batch_size=16, validation_data=(X_test, y_test))"
   ]
  },
  {
   "cell_type": "code",
   "execution_count": 10,
   "id": "fdf36ca5-e4a1-4d9a-99aa-3bb1b865a025",
   "metadata": {},
   "outputs": [
    {
     "name": "stdout",
     "output_type": "stream",
     "text": [
      "101/101 [==============================] - 0s 2ms/step - loss: 2.1915 - accuracy: 0.3253\n",
      "Test accuracy: 0.3252788186073303\n"
     ]
    }
   ],
   "source": [
    "# Evaluate the model on the test data\n",
    "test_loss, test_acc = model.evaluate(X_test, y_test)\n",
    "print('Test accuracy:', test_acc)"
   ]
  },
  {
   "cell_type": "markdown",
   "id": "e122b2d2-9ec2-46d8-bdcf-eb32adca785f",
   "metadata": {},
   "source": [
    "# Finetuned HHA"
   ]
  },
  {
   "cell_type": "code",
   "execution_count": 11,
   "id": "e63a0d79-f6dd-4dd6-aa0a-eccc0f4011e4",
   "metadata": {
    "tags": []
   },
   "outputs": [],
   "source": [
    "img2feat = gen_img2feature(\"pkl_HHA_finetuned\")\n",
    "X, y = gen_Xy(img2class, img2feat)\n",
    "X_train, X_test, y_train, y_test = train_test_split(X, y, test_size=0.2, random_state=42)"
   ]
  },
  {
   "cell_type": "code",
   "execution_count": 12,
   "id": "a2cb3de7-37d9-4ede-b2c7-05759b534348",
   "metadata": {
    "tags": []
   },
   "outputs": [
    {
     "name": "stdout",
     "output_type": "stream",
     "text": [
      "Epoch 1/5\n",
      "807/807 [==============================] - 14s 16ms/step - loss: 2.4810 - accuracy: 0.2566 - val_loss: 2.4122 - val_accuracy: 0.2612\n",
      "Epoch 2/5\n",
      "807/807 [==============================] - 3s 4ms/step - loss: 2.3421 - accuracy: 0.2807 - val_loss: 2.3298 - val_accuracy: 0.2677\n",
      "Epoch 3/5\n",
      "807/807 [==============================] - 3s 4ms/step - loss: 2.2402 - accuracy: 0.3042 - val_loss: 2.2342 - val_accuracy: 0.3123\n",
      "Epoch 4/5\n",
      "807/807 [==============================] - 3s 4ms/step - loss: 2.1443 - accuracy: 0.3248 - val_loss: 2.1580 - val_accuracy: 0.3271\n",
      "Epoch 5/5\n",
      "807/807 [==============================] - 3s 4ms/step - loss: 2.0562 - accuracy: 0.3458 - val_loss: 2.1025 - val_accuracy: 0.3371\n"
     ]
    }
   ],
   "source": [
    "# Define the model architecture\n",
    "model = tf.keras.Sequential([\n",
    "    tf.keras.layers.Dense(512, input_shape=(1000, )),\n",
    "    tf.keras.layers.Dense(128, activation='relu'),  \n",
    "    tf.keras.layers.Dense(len(to_keep), activation='softmax')  \n",
    "])\n",
    "\n",
    "# Compile the model\n",
    "model.compile(optimizer='adam',\n",
    "              loss='sparse_categorical_crossentropy',\n",
    "              metrics=['accuracy'])\n",
    "\n",
    "# Train the model\n",
    "history = model.fit(X_train, y_train, epochs=5, batch_size=16, validation_data=(X_test, y_test))"
   ]
  },
  {
   "cell_type": "code",
   "execution_count": 13,
   "id": "6d3d2d81-9d29-4a20-b63f-9bbaa0b2c253",
   "metadata": {
    "tags": []
   },
   "outputs": [
    {
     "name": "stdout",
     "output_type": "stream",
     "text": [
      "101/101 [==============================] - 0s 2ms/step - loss: 2.1025 - accuracy: 0.3371\n",
      "Test accuracy: 0.33705079555511475\n"
     ]
    }
   ],
   "source": [
    "# Evaluate the model on the test data\n",
    "test_loss, test_acc = model.evaluate(X_test, y_test)\n",
    "print('Test accuracy:', test_acc)"
   ]
  },
  {
   "cell_type": "markdown",
   "id": "f065006b-adaf-4995-8caa-5ff235082129",
   "metadata": {},
   "source": [
    "# Freeze HHA"
   ]
  },
  {
   "cell_type": "code",
   "execution_count": 14,
   "id": "556158d4-3c78-474d-9e92-0fa947573c7c",
   "metadata": {
    "tags": []
   },
   "outputs": [],
   "source": [
    "img2feat = gen_img2feature(\"pkl_FreezeHHA\")\n",
    "X, y = gen_Xy(img2class, img2feat)\n",
    "X_train, X_test, y_train, y_test = train_test_split(X, y, test_size=0.2, random_state=42)"
   ]
  },
  {
   "cell_type": "code",
   "execution_count": 15,
   "id": "3e50b92e-68e4-40f5-bf01-f325d75c63d9",
   "metadata": {
    "tags": []
   },
   "outputs": [
    {
     "name": "stdout",
     "output_type": "stream",
     "text": [
      "Epoch 1/5\n",
      "807/807 [==============================] - 14s 17ms/step - loss: 2.4688 - accuracy: 0.2592 - val_loss: 2.4248 - val_accuracy: 0.2621\n",
      "Epoch 2/5\n",
      "807/807 [==============================] - 3s 4ms/step - loss: 2.3258 - accuracy: 0.2871 - val_loss: 2.3394 - val_accuracy: 0.2965\n",
      "Epoch 3/5\n",
      "807/807 [==============================] - 3s 4ms/step - loss: 2.2216 - accuracy: 0.3038 - val_loss: 2.2317 - val_accuracy: 0.3141\n",
      "Epoch 4/5\n",
      "807/807 [==============================] - 3s 4ms/step - loss: 2.1412 - accuracy: 0.3247 - val_loss: 2.2294 - val_accuracy: 0.3160\n",
      "Epoch 5/5\n",
      "807/807 [==============================] - 3s 4ms/step - loss: 2.0496 - accuracy: 0.3465 - val_loss: 2.1557 - val_accuracy: 0.3231\n"
     ]
    }
   ],
   "source": [
    "# Define the model architecture\n",
    "model = tf.keras.Sequential([\n",
    "    tf.keras.layers.Dense(512, input_shape=(1000, )),\n",
    "    tf.keras.layers.Dense(128, activation='relu'),  \n",
    "    tf.keras.layers.Dense(len(to_keep), activation='softmax')  \n",
    "])\n",
    "\n",
    "# Compile the model\n",
    "model.compile(optimizer='adam',\n",
    "              loss='sparse_categorical_crossentropy',\n",
    "              metrics=['accuracy'])\n",
    "\n",
    "# Train the model\n",
    "history = model.fit(X_train, y_train, epochs=5, batch_size=16, validation_data=(X_test, y_test))"
   ]
  },
  {
   "cell_type": "code",
   "execution_count": 16,
   "id": "1f9965e4-dfa1-4c8a-90e0-d1870c098451",
   "metadata": {
    "tags": []
   },
   "outputs": [
    {
     "name": "stdout",
     "output_type": "stream",
     "text": [
      "101/101 [==============================] - 0s 2ms/step - loss: 2.1557 - accuracy: 0.3231\n",
      "Test accuracy: 0.32311028242111206\n"
     ]
    }
   ],
   "source": [
    "# Evaluate the model on the test data\n",
    "test_loss, test_acc = model.evaluate(X_test, y_test)\n",
    "print('Test accuracy:', test_acc)"
   ]
  },
  {
   "cell_type": "markdown",
   "id": "cb2b763b-3d9d-4e78-a413-c7d171773ffd",
   "metadata": {},
   "source": [
    "# Freeze RGB"
   ]
  },
  {
   "cell_type": "code",
   "execution_count": 18,
   "id": "a5fb484a-1fff-42c6-9866-13e42c687994",
   "metadata": {
    "tags": []
   },
   "outputs": [],
   "source": [
    "img2feat = gen_img2feature(\"pkl_FreezeRGB\")\n",
    "X, y = gen_Xy(img2class, img2feat)\n",
    "X_train, X_test, y_train, y_test = train_test_split(X, y, test_size=0.2, random_state=42)"
   ]
  },
  {
   "cell_type": "code",
   "execution_count": 19,
   "id": "71790039-de27-4635-9954-02344bcc30ca",
   "metadata": {
    "tags": []
   },
   "outputs": [
    {
     "name": "stdout",
     "output_type": "stream",
     "text": [
      "Epoch 1/5\n",
      "807/807 [==============================] - 14s 16ms/step - loss: 2.4997 - accuracy: 0.2530 - val_loss: 2.4444 - val_accuracy: 0.2639\n",
      "Epoch 2/5\n",
      "807/807 [==============================] - 3s 4ms/step - loss: 2.4005 - accuracy: 0.2743 - val_loss: 2.4684 - val_accuracy: 0.2252\n",
      "Epoch 3/5\n",
      "807/807 [==============================] - 3s 4ms/step - loss: 2.3278 - accuracy: 0.2850 - val_loss: 2.3479 - val_accuracy: 0.2859\n",
      "Epoch 4/5\n",
      "807/807 [==============================] - 3s 4ms/step - loss: 2.2666 - accuracy: 0.3028 - val_loss: 2.3099 - val_accuracy: 0.2937\n",
      "Epoch 5/5\n",
      "807/807 [==============================] - 3s 4ms/step - loss: 2.2038 - accuracy: 0.3179 - val_loss: 2.3538 - val_accuracy: 0.2602\n"
     ]
    }
   ],
   "source": [
    "# Define the model architecture\n",
    "model = tf.keras.Sequential([\n",
    "    tf.keras.layers.Dense(512, input_shape=(1000, )),\n",
    "    tf.keras.layers.Dense(128, activation='relu'),  \n",
    "    tf.keras.layers.Dense(len(to_keep), activation='softmax')  \n",
    "])\n",
    "\n",
    "# Compile the model\n",
    "model.compile(optimizer='adam',\n",
    "              loss='sparse_categorical_crossentropy',\n",
    "              metrics=['accuracy'])\n",
    "\n",
    "# Train the model\n",
    "history = model.fit(X_train, y_train, epochs=5, batch_size=16, validation_data=(X_test, y_test))"
   ]
  },
  {
   "cell_type": "code",
   "execution_count": 20,
   "id": "76727079-bbf1-49c6-b95f-923c558fc8b3",
   "metadata": {
    "tags": []
   },
   "outputs": [
    {
     "name": "stdout",
     "output_type": "stream",
     "text": [
      "101/101 [==============================] - 0s 2ms/step - loss: 2.3538 - accuracy: 0.2602\n",
      "Test accuracy: 0.26022306084632874\n"
     ]
    }
   ],
   "source": [
    "# Evaluate the model on the test data\n",
    "test_loss, test_acc = model.evaluate(X_test, y_test)\n",
    "print('Test accuracy:', test_acc)"
   ]
  }
 ],
 "metadata": {
  "kernelspec": {
   "display_name": "Python 3 (ipykernel)",
   "language": "python",
   "name": "python3"
  },
  "language_info": {
   "codemirror_mode": {
    "name": "ipython",
    "version": 3
   },
   "file_extension": ".py",
   "mimetype": "text/x-python",
   "name": "python",
   "nbconvert_exporter": "python",
   "pygments_lexer": "ipython3",
   "version": "3.9.16"
  }
 },
 "nbformat": 4,
 "nbformat_minor": 5
}
