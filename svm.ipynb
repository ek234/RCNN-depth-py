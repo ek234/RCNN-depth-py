{
 "cells": [
  {
   "cell_type": "code",
   "execution_count": 1,
   "metadata": {},
   "outputs": [
    {
     "name": "stdout",
     "output_type": "stream",
     "text": [
      "Requirement already satisfied: liblinear-official in /opt/anaconda3/envs/cv/lib/python3.7/site-packages (2.46.1)\n",
      "Requirement already satisfied: scipy in /opt/anaconda3/envs/cv/lib/python3.7/site-packages (from liblinear-official) (1.7.3)\n",
      "Requirement already satisfied: numpy<1.23.0,>=1.16.5 in /opt/anaconda3/envs/cv/lib/python3.7/site-packages (from scipy->liblinear-official) (1.21.6)\n"
     ]
    }
   ],
   "source": [
    "!pip install -U liblinear-official"
   ]
  },
  {
   "cell_type": "code",
   "execution_count": 1,
   "metadata": {},
   "outputs": [],
   "source": [
    "from tqdm import tqdm\n",
    "import numpy as np\n",
    "from liblinear.liblinearutil import *\n",
    "import pandas as pd\n",
    "import ast\n",
    "tqdm.pandas()\n",
    "from sklearn.model_selection import train_test_split\n",
    "from sklearn.svm import SVC\n",
    "from sklearn import metrics\n",
    "import pickle\n",
    "import os"
   ]
  },
  {
   "cell_type": "code",
   "execution_count": 2,
   "metadata": {},
   "outputs": [],
   "source": [
    "CLASSES = [5, 7, 12, 19, 24, 26, 28, 36, 49, 83, 88, 119, 124, 136, 144, 157, 158, 169, 172]"
   ]
  },
  {
   "cell_type": "code",
   "execution_count": 3,
   "metadata": {},
   "outputs": [],
   "source": [
    "def f1_score(TP, FP, TN, FN):\n",
    "    return (1.0*TP)/(TP + 0.5*(FP+FN))"
   ]
  },
  {
   "cell_type": "code",
   "execution_count": 4,
   "metadata": {},
   "outputs": [],
   "source": [
    "class SVM():\n",
    "    def __init__(self, cnn):\n",
    "        # self.features = features # bounding box features\n",
    "        self.cnn = cnn\n",
    "        self.X = []\n",
    "        self.Y = []\n",
    "        self.num_classes = 894\n",
    "        self.num_final_classes = len(CLASSES)\n",
    "        self.l = 1449\n",
    "\n",
    "    def preprocess(self):\n",
    "        all_labels = []\n",
    "        for i in tqdm(range(self.l)):\n",
    "            labelled = np.load(\"./nyudv2/label/\" + str(i) + \".npy\")\n",
    "            unique_classes = np.unique(labelled)\n",
    "            # print(unique_classes)\n",
    "            temp = [0]*(self.num_classes + 1)\n",
    "            for c in unique_classes:\n",
    "                temp[c] = 1\n",
    "            self.Y.append(temp)\n",
    "\n",
    "    def process_X(self, path=\"RGBHHA_emb_processed.csv\", X=0):\n",
    "        if X:\n",
    "            self.X_arr = X\n",
    "            return 0\n",
    "        else:    \n",
    "            df = pd.read_csv(path)\n",
    "            self.df = df\n",
    "            df[\"Embedding\"] = df[\"Embedding\"].progress_map(lambda x: ast.literal_eval(x))\n",
    "            df[\"Embedding\"] = df[\"Embedding\"].progress_map(lambda x: x[:1000])\n",
    "            X_arr = df[\"Embedding\"].values\n",
    "            # final_X_arr = []\n",
    "            # for i in tqdm(range(len(X_arr))):\n",
    "            #     final_X_arr.append(ast.literal_eval(X_arr[i]))\n",
    "            self.X_arr = X_arr\n",
    "            return df\n",
    "    \n",
    "    def process_Y(self):\n",
    "        Y = self.Y\n",
    "        temp_Y = []\n",
    "        for vec in Y:\n",
    "            temp = []\n",
    "            for idx in CLASSES:\n",
    "                temp.append(vec[idx])\n",
    "            temp_Y.append(temp)\n",
    "\n",
    "        Y_t = np.transpose(temp_Y)\n",
    "        self.all_Y = Y_t\n",
    "\n",
    "    def train_test_split(self, X, y):\n",
    "        X_train, X_test, y_train, y_test = train_test_split(X, y, test_size=0.2, random_state=42)\n",
    "\n",
    "        self.X_train = X_train\n",
    "        self.y_train = y_train\n",
    "        self.X_test = X_test\n",
    "        self.y_test = y_test\n",
    "\n",
    "    # def process_Y(self):\n",
    "    #     temp_Y = {i: [0]*self.l for i in range(self.num_classes + 1)}\n",
    "\n",
    "    #     for idx_image, i in enumerate(self.Y):\n",
    "    #         for idx_class, j in enumerate(i):\n",
    "    #             if j == 1:\n",
    "    #                 # print(idx_class, idx_image)\n",
    "    #                 temp_Y[idx_class][idx_image] = 1\n",
    "    #     self.all_Y = temp_Y\n",
    "\n",
    "        return list(X_train), list(X_test), y_train, y_test\n",
    "    \n",
    "    def sklearn_SVM(self):\n",
    "        X = self.X_arr\n",
    "        l = self.num_final_classes\n",
    "        models = []\n",
    "        test_data = []\n",
    "        for i in range(l):\n",
    "            y = self.all_Y[i]\n",
    "            X_train, X_test, y_train, y_test = self.train_test_split(X, y)\n",
    "            clf = SVC().fit(X_train, y_train)\n",
    "            models.append(clf)\n",
    "            # save_model(f\"./models/svm_{i}.model\", m)\n",
    "            test_data.append([X_test, y_test])\n",
    "        self.test_data = test_data\n",
    "        self.m = models\n",
    "    \n",
    "    def run_SVM(self):\n",
    "        X = self.X_arr\n",
    "        l = self.num_final_classes\n",
    "        models = []\n",
    "        test_data = []\n",
    "        for i in range(l):\n",
    "            y = self.all_Y[i]\n",
    "            X_train, X_test, y_train, y_test = self.train_test_split(X, y)\n",
    "            # print(type(X), type(y))\n",
    "            prob = problem(y_train, X_train)\n",
    "            param = parameter('-B 10 -c 0.001')\n",
    "            m = train(prob, param)\n",
    "            models.append(m)\n",
    "            save_model(f\"./models/svm_{i}.model\", m)\n",
    "            test_data.append([X_test, y_test])\n",
    "        self.test_data = test_data\n",
    "        self.m = models\n",
    "\n",
    "    def results(self, pred, truth):\n",
    "        res = []\n",
    "        for i in range(len(pred)):\n",
    "            TP, FP, TN, FN = 0, 0, 0, 0\n",
    "            for j in range(len(pred[0])):\n",
    "                if pred[i][j] == 1:\n",
    "                    if truth[i][j] == 1:\n",
    "                        TP += 1\n",
    "                    else:\n",
    "                        FP += 1\n",
    "                else:\n",
    "                    if truth[i][j] == 1:\n",
    "                        FN += 1\n",
    "                    else:\n",
    "                        TN += 1\n",
    "\n",
    "            res.append([TP, FP, TN, FN])\n",
    "        return res\n",
    "\n"
   ]
  },
  {
   "attachments": {},
   "cell_type": "markdown",
   "metadata": {},
   "source": [
    "### RGBHHA Embeddings - RCNN"
   ]
  },
  {
   "cell_type": "code",
   "execution_count": 82,
   "metadata": {},
   "outputs": [
    {
     "name": "stderr",
     "output_type": "stream",
     "text": [
      "100%|██████████| 1449/1449 [00:07<00:00, 203.27it/s]\n",
      "100%|██████████| 1449/1449 [00:04<00:00, 324.37it/s]\n"
     ]
    },
    {
     "name": "stdout",
     "output_type": "stream",
     "text": [
      ".\n",
      "optimization finished, #iter = 13\n",
      "Objective value = -0.951711\n",
      "nSV = 1155\n",
      ".*\n",
      "optimization finished, #iter = 14\n",
      "Objective value = -0.712318\n",
      "nSV = 1148\n",
      ".*\n",
      "optimization finished, #iter = 13\n",
      "Objective value = -0.433457\n",
      "nSV = 1141\n",
      ".*\n",
      "optimization finished, #iter = 14\n",
      "Objective value = -0.911633\n",
      "nSV = 1155\n",
      ".*\n",
      "optimization finished, #iter = 13\n",
      "Objective value = -0.471834\n",
      "nSV = 1125\n",
      ".*\n",
      "optimization finished, #iter = 14\n",
      "Objective value = -0.784526\n",
      "nSV = 1147\n",
      ".*\n",
      "optimization finished, #iter = 14\n",
      "Objective value = -0.807433\n",
      "nSV = 1155\n",
      ".*\n",
      "optimization finished, #iter = 13\n",
      "Objective value = -0.475312\n",
      "nSV = 1111\n",
      ".*\n",
      "optimization finished, #iter = 13\n",
      "Objective value = -0.282086\n",
      "nSV = 870\n",
      ".\n",
      "optimization finished, #iter = 13\n",
      "Objective value = -0.708590\n",
      "nSV = 1157\n",
      ".*\n",
      "optimization finished, #iter = 14\n",
      "Objective value = -0.499645\n",
      "nSV = 1098\n",
      ".*\n",
      "optimization finished, #iter = 14\n",
      "Objective value = -0.824247\n",
      "nSV = 1156\n",
      ".*\n",
      "optimization finished, #iter = 13\n",
      "Objective value = -0.197940\n",
      "nSV = 834\n",
      ".*\n",
      "optimization finished, #iter = 12\n",
      "Objective value = -0.170836\n",
      "nSV = 809\n",
      ".*\n",
      "optimization finished, #iter = 14\n",
      "Objective value = -0.767386\n",
      "nSV = 1157\n",
      ".*\n",
      "optimization finished, #iter = 13\n",
      "Objective value = -0.682661\n",
      "nSV = 1128\n",
      ".*\n",
      "optimization finished, #iter = 13\n",
      "Objective value = -0.382570\n",
      "nSV = 1068\n",
      ".*\n",
      "optimization finished, #iter = 13\n",
      "Objective value = -0.264711\n",
      "nSV = 987\n",
      ".*\n",
      "optimization finished, #iter = 13\n",
      "Objective value = -0.335025\n",
      "nSV = 1079\n"
     ]
    }
   ],
   "source": [
    "svm = SVM(\"embeddings\")\n",
    "svm.preprocess()\n",
    "svm.process_Y()\n",
    "svm.process_X(path=\"RGBHHA_emb_processed.csv\")\n",
    "svm.run_SVM()\n",
    "\n",
    "models = svm.m"
   ]
  },
  {
   "cell_type": "code",
   "execution_count": 83,
   "metadata": {},
   "outputs": [
    {
     "name": "stdout",
     "output_type": "stream",
     "text": [
      "Accuracy = 62.069% (180/290) (classification)\n",
      "Accuracy = 75.8621% (220/290) (classification)\n",
      "Accuracy = 86.8966% (252/290) (classification)\n",
      "Accuracy = 63.7931% (185/290) (classification)\n",
      "Accuracy = 84.4828% (245/290) (classification)\n",
      "Accuracy = 76.5517% (222/290) (classification)\n",
      "Accuracy = 71.0345% (206/290) (classification)\n",
      "Accuracy = 84.1379% (244/290) (classification)\n",
      "Accuracy = 90% (261/290) (classification)\n",
      "Accuracy = 80% (232/290) (classification)\n",
      "Accuracy = 85.5172% (248/290) (classification)\n",
      "Accuracy = 75.1724% (218/290) (classification)\n",
      "Accuracy = 96.8966% (281/290) (classification)\n",
      "Accuracy = 97.5862% (283/290) (classification)\n",
      "Accuracy = 74.1379% (215/290) (classification)\n",
      "Accuracy = 77.931% (226/290) (classification)\n",
      "Accuracy = 90.3448% (262/290) (classification)\n",
      "Accuracy = 88.9655% (258/290) (classification)\n",
      "Accuracy = 90.3448% (262/290) (classification)\n",
      "[(114, 132), (0, 70), (0, 38), (58, 105), (0, 45), (1, 67), (5, 85), (0, 46), (0, 29), (2, 56), (0, 42), (6, 66), (0, 9), (0, 7), (0, 75), (6, 62), (0, 28), (0, 32), (0, 28)]\n"
     ]
    }
   ],
   "source": [
    "labels = []\n",
    "accs = []\n",
    "vals = []\n",
    "test_y = []\n",
    "\n",
    "for idx, m in enumerate(models):\n",
    "    X, y = svm.test_data[idx]\n",
    "    label, acc, val = predict(y, X, m)\n",
    "    test_y.append(y)\n",
    "    labels.append(label)\n",
    "    accs.append(acc)\n",
    "    vals.append(val)\n",
    "\n",
    "pred = [int(np.sum(i)) for i in labels]\n",
    "truth = [np.sum(i) for i in test_y]\n",
    "t = [i for i in zip(pred, truth)]\n",
    "print(t)\n",
    "\n",
    "report = svm.results(labels,test_y)"
   ]
  },
  {
   "cell_type": "code",
   "execution_count": 95,
   "metadata": {},
   "outputs": [
    {
     "data": {
      "text/plain": [
       "[[68, 46, 112, 64],\n",
       " [0, 0, 220, 70],\n",
       " [0, 0, 252, 38],\n",
       " [29, 29, 156, 76],\n",
       " [0, 0, 245, 45],\n",
       " [0, 1, 222, 67],\n",
       " [3, 2, 203, 82],\n",
       " [0, 0, 244, 46],\n",
       " [0, 0, 261, 29],\n",
       " [0, 2, 232, 56],\n",
       " [0, 0, 248, 42],\n",
       " [0, 6, 218, 66],\n",
       " [0, 0, 281, 9],\n",
       " [0, 0, 283, 7],\n",
       " [0, 0, 215, 75],\n",
       " [2, 4, 224, 60],\n",
       " [0, 0, 262, 28],\n",
       " [0, 0, 258, 32],\n",
       " [0, 0, 262, 28]]"
      ]
     },
     "execution_count": 95,
     "metadata": {},
     "output_type": "execute_result"
    }
   ],
   "source": [
    "report"
   ]
  },
  {
   "cell_type": "code",
   "execution_count": 96,
   "metadata": {},
   "outputs": [],
   "source": [
    "res = []\n",
    "w = []\n",
    "for i in report:\n",
    "    res.append(f1_score(i[0], i[1], i[2], i[3]))\n",
    "    w.append( i[0] + i[3])"
   ]
  },
  {
   "cell_type": "code",
   "execution_count": 97,
   "metadata": {},
   "outputs": [
    {
     "data": {
      "text/plain": [
       "0.11707563447796253"
      ]
     },
     "execution_count": 97,
     "metadata": {},
     "output_type": "execute_result"
    }
   ],
   "source": [
    "np.average(res, weights=w)"
   ]
  },
  {
   "attachments": {},
   "cell_type": "markdown",
   "metadata": {},
   "source": [
    "### RGBD embeddings - RCNN"
   ]
  },
  {
   "cell_type": "code",
   "execution_count": 5,
   "metadata": {},
   "outputs": [
    {
     "name": "stderr",
     "output_type": "stream",
     "text": [
      "100%|██████████| 1449/1449 [00:07<00:00, 185.85it/s]\n",
      "100%|██████████| 1449/1449 [04:47<00:00,  5.03it/s]\n",
      "100%|██████████| 1449/1449 [00:00<00:00, 36214.89it/s]\n"
     ]
    },
    {
     "name": "stdout",
     "output_type": "stream",
     "text": [
      ".\n",
      "optimization finished, #iter = 13\n",
      "Objective value = -0.951707\n",
      "nSV = 1155\n",
      ".*\n",
      "optimization finished, #iter = 14\n",
      "Objective value = -0.712318\n",
      "nSV = 1148\n",
      ".*\n",
      "optimization finished, #iter = 13\n",
      "Objective value = -0.433457\n",
      "nSV = 1140\n",
      ".*\n",
      "optimization finished, #iter = 14\n",
      "Objective value = -0.911634\n",
      "nSV = 1156\n",
      ".*\n",
      "optimization finished, #iter = 13\n",
      "Objective value = -0.471840\n",
      "nSV = 1124\n",
      ".*\n",
      "optimization finished, #iter = 14\n",
      "Objective value = -0.784527\n",
      "nSV = 1147\n",
      ".*\n",
      "optimization finished, #iter = 14\n",
      "Objective value = -0.807428\n",
      "nSV = 1155\n",
      ".*\n",
      "optimization finished, #iter = 13\n",
      "Objective value = -0.475314\n",
      "nSV = 1111\n",
      ".*\n",
      "optimization finished, #iter = 13\n",
      "Objective value = -0.282083\n",
      "nSV = 868\n",
      ".\n",
      "optimization finished, #iter = 12\n",
      "Objective value = -0.708535\n",
      "nSV = 1157\n",
      ".*\n",
      "optimization finished, #iter = 13\n",
      "Objective value = -0.499628\n",
      "nSV = 1099\n",
      ".\n",
      "optimization finished, #iter = 13\n",
      "Objective value = -0.824223\n",
      "nSV = 1156\n",
      ".*\n",
      "optimization finished, #iter = 13\n",
      "Objective value = -0.197941\n",
      "nSV = 833\n",
      ".*\n",
      "optimization finished, #iter = 12\n",
      "Objective value = -0.170836\n",
      "nSV = 811\n",
      ".*\n",
      "optimization finished, #iter = 14\n",
      "Objective value = -0.767385\n",
      "nSV = 1157\n",
      ".*\n",
      "optimization finished, #iter = 14\n",
      "Objective value = -0.682682\n",
      "nSV = 1129\n",
      ".*\n",
      "optimization finished, #iter = 13\n",
      "Objective value = -0.382571\n",
      "nSV = 1068\n",
      ".*\n",
      "optimization finished, #iter = 12\n",
      "Objective value = -0.264694\n",
      "nSV = 988\n",
      ".*\n",
      "optimization finished, #iter = 13\n",
      "Objective value = -0.335030\n",
      "nSV = 1080\n"
     ]
    }
   ],
   "source": [
    "svm_d = SVM(\"embeddings\")\n",
    "svm_d.preprocess()\n",
    "svm_d.process_Y()\n",
    "svm_d.process_X(path=\"RGB_emb.csv\")\n",
    "svm_d.run_SVM()\n",
    "\n",
    "models = svm_d.m"
   ]
  },
  {
   "cell_type": "code",
   "execution_count": 6,
   "metadata": {},
   "outputs": [
    {
     "name": "stdout",
     "output_type": "stream",
     "text": [
      "Accuracy = 61.7241% (179/290) (classification)\n",
      "Accuracy = 76.2069% (221/290) (classification)\n",
      "Accuracy = 86.8966% (252/290) (classification)\n",
      "Accuracy = 62.7586% (182/290) (classification)\n",
      "Accuracy = 84.4828% (245/290) (classification)\n",
      "Accuracy = 76.5517% (222/290) (classification)\n",
      "Accuracy = 71.0345% (206/290) (classification)\n",
      "Accuracy = 84.1379% (244/290) (classification)\n",
      "Accuracy = 90% (261/290) (classification)\n",
      "Accuracy = 80% (232/290) (classification)\n",
      "Accuracy = 85.5172% (248/290) (classification)\n",
      "Accuracy = 75.1724% (218/290) (classification)\n",
      "Accuracy = 96.8966% (281/290) (classification)\n",
      "Accuracy = 97.5862% (283/290) (classification)\n",
      "Accuracy = 74.1379% (215/290) (classification)\n",
      "Accuracy = 77.931% (226/290) (classification)\n",
      "Accuracy = 90.3448% (262/290) (classification)\n",
      "Accuracy = 88.9655% (258/290) (classification)\n",
      "Accuracy = 90.3448% (262/290) (classification)\n",
      "[(111, 132), (1, 70), (0, 38), (61, 105), (0, 45), (1, 67), (5, 85), (0, 46), (0, 29), (2, 56), (0, 42), (6, 66), (0, 9), (0, 7), (0, 75), (6, 62), (0, 28), (0, 32), (0, 28)]\n"
     ]
    }
   ],
   "source": [
    "labels = []\n",
    "accs = []\n",
    "vals = []\n",
    "test_y = []\n",
    "\n",
    "for idx, m in enumerate(models):\n",
    "    X, y = svm_d.test_data[idx]\n",
    "    label, acc, val = predict(y, X, m)\n",
    "    test_y.append(y)\n",
    "    labels.append(label)\n",
    "    accs.append(acc)\n",
    "    vals.append(val)\n",
    "\n",
    "pred = [int(np.sum(i)) for i in labels]\n",
    "truth = [np.sum(i) for i in test_y]\n",
    "t = [i for i in zip(pred, truth)]\n",
    "print(t)\n",
    "\n",
    "report_d = svm_d.results(labels,test_y)"
   ]
  },
  {
   "cell_type": "code",
   "execution_count": 7,
   "metadata": {},
   "outputs": [],
   "source": [
    "res_d = []\n",
    "w_d = []\n",
    "for i in report_d:\n",
    "    res_d.append(f1_score(i[0], i[1], i[2], i[3]))\n",
    "    w_d.append( i[0] + i[3])"
   ]
  },
  {
   "cell_type": "code",
   "execution_count": 9,
   "metadata": {},
   "outputs": [
    {
     "data": {
      "text/plain": [
       "0.11709981131875447"
      ]
     },
     "execution_count": 9,
     "metadata": {},
     "output_type": "execute_result"
    }
   ],
   "source": [
    "np.average(res_d, weights=w_d)"
   ]
  },
  {
   "attachments": {},
   "cell_type": "markdown",
   "metadata": {},
   "source": [
    "### YOLO!"
   ]
  },
  {
   "cell_type": "code",
   "execution_count": 46,
   "metadata": {},
   "outputs": [],
   "source": [
    "path_rgb_ft = \"./pickle_exp1_finetune_rgb_yolov5n/\"\n",
    "path_hha_ft = \"./pickle_exp3_finetune_hha_yolov5n/\"\n",
    "path_rgb_freeze = \"./pickle_exp2_freeze_rgb_yolov5n/\"\n",
    "path_hha_freeze = \"./pickle_exp3_finetune_hha_yolov5n/\""
   ]
  },
  {
   "cell_type": "code",
   "execution_count": 32,
   "metadata": {},
   "outputs": [],
   "source": [
    "FT = []\n",
    "FREEZE = []"
   ]
  },
  {
   "cell_type": "code",
   "execution_count": 33,
   "metadata": {},
   "outputs": [],
   "source": [
    "for i in range(1449):\n",
    "    file = f\"{i}.pkl\"\n",
    "    rgb_ft = np.array(pickle.load(open(os.path.join(path_rgb_ft, file), \"rb\"))[:500])\n",
    "    hha_ft = np.array(pickle.load(open(os.path.join(path_hha_ft, file), \"rb\"))[:500])\n",
    "    rgb_freeze = np.array(pickle.load(open(os.path.join(path_rgb_freeze, file), \"rb\"))[:500])\n",
    "    hha_freeze = np.array(pickle.load(open(os.path.join(path_hha_freeze, file), \"rb\"))[:500])\n",
    "\n",
    "    # print(rgb_ft +.shape)\n",
    "\n",
    "    ft = np.concatenate((rgb_ft, hha_ft))\n",
    "    freeze = np.concatenate((rgb_freeze, hha_freeze))\n",
    "\n",
    "    FT.append(ft)\n",
    "    FREEZE.append(freeze)"
   ]
  },
  {
   "cell_type": "code",
   "execution_count": 61,
   "metadata": {},
   "outputs": [
    {
     "name": "stderr",
     "output_type": "stream",
     "text": [
      "100%|██████████| 1449/1449 [00:07<00:00, 197.58it/s]\n"
     ]
    },
    {
     "name": "stdout",
     "output_type": "stream",
     "text": [
      "\n",
      "optimization finished, #iter = 6\n",
      "Objective value = -1.100858\n",
      "nSV = 1159\n",
      "\n",
      "optimization finished, #iter = 6\n",
      "Objective value = -0.751974\n",
      "nSV = 1159\n",
      "\n",
      "optimization finished, #iter = 5\n",
      "Objective value = -0.458497\n",
      "nSV = 1158\n",
      "\n",
      "optimization finished, #iter = 6\n",
      "Objective value = -1.038334\n",
      "nSV = 1159\n",
      "\n",
      "optimization finished, #iter = 5\n",
      "Objective value = -0.490166\n",
      "nSV = 1159\n",
      "\n",
      "optimization finished, #iter = 5\n",
      "Objective value = -0.855072\n",
      "nSV = 1159\n",
      "\n",
      "optimization finished, #iter = 5\n",
      "Objective value = -0.884763\n",
      "nSV = 1159\n",
      "*\n",
      "optimization finished, #iter = 6\n",
      "Objective value = -0.508262\n",
      "nSV = 1157\n",
      "\n",
      "optimization finished, #iter = 5\n",
      "Objective value = -0.319419\n",
      "nSV = 1149\n",
      "\n",
      "optimization finished, #iter = 5\n",
      "Objective value = -0.741320\n",
      "nSV = 1159\n",
      "\n",
      "optimization finished, #iter = 6\n",
      "Objective value = -0.544061\n",
      "nSV = 1158\n",
      "\n",
      "optimization finished, #iter = 5\n",
      "Objective value = -0.873517\n",
      "nSV = 1159\n",
      "\n",
      "optimization finished, #iter = 5\n",
      "Objective value = -0.215044\n",
      "nSV = 1135\n",
      "\n",
      "optimization finished, #iter = 5\n",
      "Objective value = -0.184764\n",
      "nSV = 1126\n",
      "\n",
      "optimization finished, #iter = 5\n",
      "Objective value = -0.807576\n",
      "nSV = 1159\n",
      "\n",
      "optimization finished, #iter = 6\n",
      "Objective value = -0.760773\n",
      "nSV = 1158\n",
      "*\n",
      "optimization finished, #iter = 6\n",
      "Objective value = -0.410459\n",
      "nSV = 1137\n",
      "\n",
      "optimization finished, #iter = 5\n",
      "Objective value = -0.286684\n",
      "nSV = 1155\n",
      "*\n",
      "optimization finished, #iter = 6\n",
      "Objective value = -0.350338\n",
      "nSV = 1133\n"
     ]
    }
   ],
   "source": [
    "# YOLO finetuned\n",
    "\n",
    "svm_yolo_ft = SVM(\"embeddings\")\n",
    "svm_yolo_ft.preprocess()\n",
    "svm_yolo_ft.process_Y()\n",
    "svm_yolo_ft.process_X(X = FT)\n",
    "svm_yolo_ft.run_SVM()\n",
    "\n",
    "models_ft = svm_yolo_ft.m"
   ]
  },
  {
   "cell_type": "code",
   "execution_count": 62,
   "metadata": {},
   "outputs": [
    {
     "name": "stdout",
     "output_type": "stream",
     "text": [
      "Accuracy = 53.4483% (155/290) (classification)\n",
      "Accuracy = 75.1724% (218/290) (classification)\n",
      "Accuracy = 86.8966% (252/290) (classification)\n",
      "Accuracy = 63.4483% (184/290) (classification)\n",
      "Accuracy = 84.4828% (245/290) (classification)\n",
      "Accuracy = 76.8966% (223/290) (classification)\n",
      "Accuracy = 70.3448% (204/290) (classification)\n",
      "Accuracy = 84.1379% (244/290) (classification)\n",
      "Accuracy = 90% (261/290) (classification)\n",
      "Accuracy = 80.3448% (233/290) (classification)\n",
      "Accuracy = 85.5172% (248/290) (classification)\n",
      "Accuracy = 77.2414% (224/290) (classification)\n",
      "Accuracy = 96.8966% (281/290) (classification)\n",
      "Accuracy = 97.5862% (283/290) (classification)\n",
      "Accuracy = 74.1379% (215/290) (classification)\n",
      "Accuracy = 78.6207% (228/290) (classification)\n",
      "Accuracy = 90.3448% (262/290) (classification)\n",
      "Accuracy = 88.9655% (258/290) (classification)\n",
      "Accuracy = 90.3448% (262/290) (classification)\n",
      "[(41, 132), (2, 70), (0, 38), (3, 105), (0, 45), (0, 67), (1, 85), (0, 46), (0, 29), (1, 56), (0, 42), (0, 66), (0, 9), (0, 7), (0, 75), (0, 62), (0, 28), (0, 32), (0, 28)]\n"
     ]
    }
   ],
   "source": [
    "labels = []\n",
    "accs = []\n",
    "vals = []\n",
    "test_y = []\n",
    "\n",
    "for idx, m in enumerate(models_ft):\n",
    "    X, y = svm_yolo_ft.test_data[idx]\n",
    "    label, acc, val = predict(y, X, m)\n",
    "    test_y.append(y)\n",
    "    labels.append(label)\n",
    "    accs.append(acc)\n",
    "    vals.append(val)\n",
    "\n",
    "pred = [int(np.sum(i)) for i in labels]\n",
    "truth = [np.sum(i) for i in test_y]\n",
    "t = [i for i in zip(pred, truth)]\n",
    "print(t)\n",
    "\n",
    "report_ft = svm_yolo_ft.results(labels,test_y)"
   ]
  },
  {
   "cell_type": "code",
   "execution_count": 63,
   "metadata": {},
   "outputs": [
    {
     "data": {
      "text/plain": [
       "[[19, 22, 136, 113],\n",
       " [0, 2, 218, 70],\n",
       " [0, 0, 252, 38],\n",
       " [1, 2, 183, 104],\n",
       " [0, 0, 245, 45],\n",
       " [0, 0, 223, 67],\n",
       " [0, 1, 204, 85],\n",
       " [0, 0, 244, 46],\n",
       " [0, 0, 261, 29],\n",
       " [0, 1, 233, 56],\n",
       " [0, 0, 248, 42],\n",
       " [0, 0, 224, 66],\n",
       " [0, 0, 281, 9],\n",
       " [0, 0, 283, 7],\n",
       " [0, 0, 215, 75],\n",
       " [0, 0, 228, 62],\n",
       " [0, 0, 262, 28],\n",
       " [0, 0, 258, 32],\n",
       " [0, 0, 262, 28]]"
      ]
     },
     "execution_count": 63,
     "metadata": {},
     "output_type": "execute_result"
    }
   ],
   "source": [
    "report_ft"
   ]
  },
  {
   "cell_type": "code",
   "execution_count": 107,
   "metadata": {},
   "outputs": [],
   "source": [
    "res_ft = []\n",
    "w_ft = []\n",
    "for i in report_ft:\n",
    "    res_ft.append(f1_score(i[0], i[1], i[2], i[3]))\n",
    "    w_ft.append( i[0] + i[3])"
   ]
  },
  {
   "cell_type": "code",
   "execution_count": 108,
   "metadata": {},
   "outputs": [
    {
     "data": {
      "text/plain": [
       "0.03027266545755737"
      ]
     },
     "execution_count": 108,
     "metadata": {},
     "output_type": "execute_result"
    }
   ],
   "source": [
    "np.average(res_ft, weights=w_ft)"
   ]
  },
  {
   "cell_type": "code",
   "execution_count": 64,
   "metadata": {},
   "outputs": [
    {
     "name": "stderr",
     "output_type": "stream",
     "text": [
      "100%|██████████| 1449/1449 [00:06<00:00, 212.37it/s]\n"
     ]
    },
    {
     "name": "stdout",
     "output_type": "stream",
     "text": [
      "\n",
      "optimization finished, #iter = 6\n",
      "Objective value = -1.107439\n",
      "nSV = 1159\n",
      "\n",
      "optimization finished, #iter = 6\n",
      "Objective value = -0.761928\n",
      "nSV = 1159\n",
      "\n",
      "optimization finished, #iter = 5\n",
      "Objective value = -0.459782\n",
      "nSV = 1159\n",
      "\n",
      "optimization finished, #iter = 6\n",
      "Objective value = -1.045737\n",
      "nSV = 1159\n",
      "\n",
      "optimization finished, #iter = 5\n",
      "Objective value = -0.491535\n",
      "nSV = 1159\n",
      "\n",
      "optimization finished, #iter = 5\n",
      "Objective value = -0.858413\n",
      "nSV = 1159\n",
      "\n",
      "optimization finished, #iter = 6\n",
      "Objective value = -0.886392\n",
      "nSV = 1159\n",
      "\n",
      "optimization finished, #iter = 5\n",
      "Objective value = -0.511131\n",
      "nSV = 1159\n",
      "\n",
      "optimization finished, #iter = 5\n",
      "Objective value = -0.319924\n",
      "nSV = 1151\n",
      "\n",
      "optimization finished, #iter = 5\n",
      "Objective value = -0.746841\n",
      "nSV = 1159\n",
      "\n",
      "optimization finished, #iter = 5\n",
      "Objective value = -0.545292\n",
      "nSV = 1159\n",
      "\n",
      "optimization finished, #iter = 6\n",
      "Objective value = -0.883112\n",
      "nSV = 1159\n",
      "*\n",
      "optimization finished, #iter = 6\n",
      "Objective value = -0.214612\n",
      "nSV = 1130\n",
      "\n",
      "optimization finished, #iter = 5\n",
      "Objective value = -0.184475\n",
      "nSV = 1131\n",
      "\n",
      "optimization finished, #iter = 5\n",
      "Objective value = -0.818292\n",
      "nSV = 1159\n",
      "\n",
      "optimization finished, #iter = 6\n",
      "Objective value = -0.769564\n",
      "nSV = 1159\n",
      "*\n",
      "optimization finished, #iter = 6\n",
      "Objective value = -0.416590\n",
      "nSV = 1141\n",
      "\n",
      "optimization finished, #iter = 5\n",
      "Objective value = -0.288938\n",
      "nSV = 1156\n",
      "*\n",
      "optimization finished, #iter = 6\n",
      "Objective value = -0.354559\n",
      "nSV = 1143\n"
     ]
    }
   ],
   "source": [
    "# YOLO freeze\n",
    "\n",
    "svm_yolo_freeze = SVM(\"embeddings\")\n",
    "svm_yolo_freeze.preprocess()\n",
    "svm_yolo_freeze.process_Y()\n",
    "svm_yolo_freeze.process_X(X = FREEZE)\n",
    "svm_yolo_freeze.run_SVM()\n",
    "\n",
    "models_freeze = svm_yolo_freeze.m"
   ]
  },
  {
   "cell_type": "code",
   "execution_count": 65,
   "metadata": {},
   "outputs": [
    {
     "name": "stdout",
     "output_type": "stream",
     "text": [
      "Accuracy = 56.8966% (165/290) (classification)\n",
      "Accuracy = 75.5172% (219/290) (classification)\n",
      "Accuracy = 86.8966% (252/290) (classification)\n",
      "Accuracy = 62.7586% (182/290) (classification)\n",
      "Accuracy = 84.4828% (245/290) (classification)\n",
      "Accuracy = 76.5517% (222/290) (classification)\n",
      "Accuracy = 70.6897% (205/290) (classification)\n",
      "Accuracy = 84.1379% (244/290) (classification)\n",
      "Accuracy = 90% (261/290) (classification)\n",
      "Accuracy = 80.6897% (234/290) (classification)\n",
      "Accuracy = 85.5172% (248/290) (classification)\n",
      "Accuracy = 77.5862% (225/290) (classification)\n",
      "Accuracy = 96.8966% (281/290) (classification)\n",
      "Accuracy = 97.5862% (283/290) (classification)\n",
      "Accuracy = 74.1379% (215/290) (classification)\n",
      "Accuracy = 78.6207% (228/290) (classification)\n",
      "Accuracy = 90.3448% (262/290) (classification)\n",
      "Accuracy = 88.9655% (258/290) (classification)\n",
      "Accuracy = 90.3448% (262/290) (classification)\n",
      "[(35, 132), (1, 70), (0, 38), (3, 105), (0, 45), (1, 67), (0, 85), (0, 46), (0, 29), (0, 56), (0, 42), (1, 66), (0, 9), (0, 7), (0, 75), (0, 62), (0, 28), (0, 32), (0, 28)]\n"
     ]
    }
   ],
   "source": [
    "labels = []\n",
    "accs = []\n",
    "vals = []\n",
    "test_y = []\n",
    "\n",
    "for idx, m in enumerate(models_freeze):\n",
    "    X, y = svm_yolo_freeze.test_data[idx]\n",
    "    label, acc, val = predict(y, X, m)\n",
    "    test_y.append(y)\n",
    "    labels.append(label)\n",
    "    accs.append(acc)\n",
    "    vals.append(val)\n",
    "\n",
    "pred = [int(np.sum(i)) for i in labels]\n",
    "truth = [np.sum(i) for i in test_y]\n",
    "t = [i for i in zip(pred, truth)]\n",
    "print(t)\n",
    "\n",
    "report_freeze = svm_yolo_freeze.results(labels,test_y)"
   ]
  },
  {
   "cell_type": "code",
   "execution_count": 66,
   "metadata": {},
   "outputs": [
    {
     "data": {
      "text/plain": [
       "[[21, 14, 144, 111],\n",
       " [0, 1, 219, 70],\n",
       " [0, 0, 252, 38],\n",
       " [0, 3, 182, 105],\n",
       " [0, 0, 245, 45],\n",
       " [0, 1, 222, 67],\n",
       " [0, 0, 205, 85],\n",
       " [0, 0, 244, 46],\n",
       " [0, 0, 261, 29],\n",
       " [0, 0, 234, 56],\n",
       " [0, 0, 248, 42],\n",
       " [1, 0, 224, 65],\n",
       " [0, 0, 281, 9],\n",
       " [0, 0, 283, 7],\n",
       " [0, 0, 215, 75],\n",
       " [0, 0, 228, 62],\n",
       " [0, 0, 262, 28],\n",
       " [0, 0, 258, 32],\n",
       " [0, 0, 262, 28]]"
      ]
     },
     "execution_count": 66,
     "metadata": {},
     "output_type": "execute_result"
    }
   ],
   "source": [
    "report_freeze"
   ]
  },
  {
   "cell_type": "code",
   "execution_count": 105,
   "metadata": {},
   "outputs": [],
   "source": [
    "res_freeze = []\n",
    "w_freeze = []\n",
    "for i in report_freeze:\n",
    "    res_freeze.append(f1_score(i[0], i[1], i[2], i[3]))\n",
    "    w_freeze.append( i[0] + i[3])"
   ]
  },
  {
   "cell_type": "code",
   "execution_count": 106,
   "metadata": {},
   "outputs": [
    {
     "data": {
      "text/plain": [
       "0.03441071824280872"
      ]
     },
     "execution_count": 106,
     "metadata": {},
     "output_type": "execute_result"
    }
   ],
   "source": [
    "np.average(res_freeze, weights=w_freeze)"
   ]
  },
  {
   "cell_type": "code",
   "execution_count": null,
   "metadata": {},
   "outputs": [],
   "source": []
  }
 ],
 "metadata": {
  "kernelspec": {
   "display_name": "cv",
   "language": "python",
   "name": "python3"
  },
  "language_info": {
   "codemirror_mode": {
    "name": "ipython",
    "version": 3
   },
   "file_extension": ".py",
   "mimetype": "text/x-python",
   "name": "python",
   "nbconvert_exporter": "python",
   "pygments_lexer": "ipython3",
   "version": "3.7.16"
  },
  "orig_nbformat": 4
 },
 "nbformat": 4,
 "nbformat_minor": 2
}
