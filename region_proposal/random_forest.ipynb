{
 "cells": [
  {
   "cell_type": "code",
   "execution_count": 1,
   "metadata": {},
   "outputs": [],
   "source": [
    "import pickle\n",
    "from sklearn.ensemble import RandomForestClassifier\n",
    "from sklearn.model_selection import train_test_split\n",
    "import numpy as np"
   ]
  },
  {
   "cell_type": "code",
   "execution_count": 2,
   "metadata": {},
   "outputs": [],
   "source": [
    "def get_data ( datafile ) :\n",
    "    data = pickle.load(open(datafile , 'rb'))\n",
    "    data = np.asanyarray(data)\n",
    "    # convert scores of label 0 (garbage) to 0\n",
    "    data[ data[:,-1] == 0 ] = 0\n",
    "\n",
    "    data_train , data_test , y_train , y_test = train_test_split(data[: , :-1] , data[: , -1], test_size = 0.3)\n",
    "\n",
    "    X_train_scores = data_train[: , 0]\n",
    "    X_train_bboxes = data_train[: , 1:5]\n",
    "    X_train = data_train[: , 5:]\n",
    "    X_test_scores = data_test[: , 0]\n",
    "    X_test_bboxes = data_test[: , 1:5]\n",
    "    X_test = data_test[: , 5:]\n",
    "\n",
    "    return X_train, X_train_scores, X_train_bboxes, y_train, X_test, X_test_scores, X_test_bboxes, y_test"
   ]
  },
  {
   "cell_type": "code",
   "execution_count": 3,
   "metadata": {},
   "outputs": [],
   "source": [
    "def train_model ( datafile, model_file ) :\n",
    "    # TODO : check if passing the bbox in X_train improves the accuracy\n",
    "    X_train, X_train_scores, X_train_bboxes, y_train, X_test, X_test_scores, X_test_bboxes, y_test = get_data(datafile)\n",
    "    \n",
    "    # TODO : use scores to get the confidence of the bounding box\n",
    "    clf = RandomForestClassifier(n_estimators = 100, max_depth = 3)\n",
    "    clf.fit(X_train , y_train)\n",
    "    \n",
    "    if model_file is not None :\n",
    "        pickle.dump(clf , open(model_file , 'wb'))\n",
    "        \n",
    "    print(f\"Accuracy on training set: {clf.score(X_train , y_train)}\")\n",
    "    print(f\"Accuracy on test set: {clf.score(X_test , y_test)}\")\n",
    "    return clf"
   ]
  },
  {
   "cell_type": "code",
   "execution_count": null,
   "metadata": {},
   "outputs": [],
   "source": [
    "model = train_model('', '')"
   ]
  }
 ],
 "metadata": {
  "kernelspec": {
   "display_name": "base",
   "language": "python",
   "name": "python3"
  },
  "language_info": {
   "codemirror_mode": {
    "name": "ipython",
    "version": 3
   },
   "file_extension": ".py",
   "mimetype": "text/x-python",
   "name": "python",
   "nbconvert_exporter": "python",
   "pygments_lexer": "ipython3",
   "version": "3.10.9"
  },
  "orig_nbformat": 4
 },
 "nbformat": 4,
 "nbformat_minor": 2
}
