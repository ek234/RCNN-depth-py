{
 "cells": [
  {
   "cell_type": "code",
   "execution_count": 2,
   "metadata": {},
   "outputs": [],
   "source": [
    "import cv2\n",
    "import time\n",
    "import numpy as np\n",
    "import random\n",
    "import matplotlib.pyplot as plt\n",
    "from utils.extract_features import get_features_from_filename\n",
    "from utils.plot_stuff import plot_images, plot_hha_components, plot_angle_directions, plot_masks, showSeSeBBoxes, plot_selected_regions\n",
    "%matplotlib inline\n",
    "\n",
    "MIN_SIMILARITY_WITH_GT_REGION = 0.5\n",
    "MIN_SIMILARITY_WITH_NEIGHBOR_BBOX = 0.5\n",
    "NeedFastSeSe = False"
   ]
  },
  {
   "cell_type": "code",
   "execution_count": 16,
   "metadata": {},
   "outputs": [
    {
     "name": "stdout",
     "output_type": "stream",
     "text": [
      "[INFO] unique label classes: [ 0  2  3  5 15 21 34 35 36 37]\n",
      "[INFO] number of unique label classes: 10\n",
      "[INFO] all images loaded in 2.0767s\n",
      "[INFO] using *quality* selective search\n",
      "[INFO] total number of region proposals: 6594\n",
      "[INFO] basic region proposal took 10.3028 seconds\n",
      "[INFO] label and score calculation took 6.6721s\n",
      "[INFO] number of boxes after supression: 925\n",
      "[INFO] non-maximum supression took 2.4808s\n",
      "[INFO] classes and their counts:\n",
      "[[  0 906]\n",
      " [  2   4]\n",
      " [  5   1]\n",
      " [ 15   5]\n",
      " [ 21   3]\n",
      " [ 34   1]\n",
      " [ 35   1]\n",
      " [ 36   1]\n",
      " [ 37   3]]\n",
      "[INFO] number of classes excluding background :  8\n",
      "[INFO] feature extraction took 0.4521 seconds\n",
      "[INFO] X-> (925, 40) \t Y-> (925,)\n",
      "[INFO] total time taken 21.9854 seconds\n"
     ]
    }
   ],
   "source": [
    "X__, Y__ = get_features_from_filename(\"3\", print_plots=False, print_info=True)"
   ]
  },
  {
   "cell_type": "code",
   "execution_count": 17,
   "metadata": {},
   "outputs": [
    {
     "name": "stdout",
     "output_type": "stream",
     "text": [
      "[INFO] unique label classes: [  0  11  21  42  55  59  64  66  74  78  81 119 141 157 158]\n",
      "[INFO] number of unique label classes: 15\n",
      "[INFO] all images loaded in 1.9625s\n",
      "[INFO] using *quality* selective search\n",
      "[INFO] total number of region proposals: 7492\n",
      "[INFO] basic region proposal took 8.3346 seconds\n",
      "[INFO] label and score calculation took 6.1502s\n",
      "[INFO] number of boxes after supression: 1042\n",
      "[INFO] non-maximum supression took 3.0868s\n",
      "[INFO] classes and their counts:\n",
      "[[   0 1016]\n",
      " [  11    1]\n",
      " [  21    3]\n",
      " [  42    1]\n",
      " [  55    2]\n",
      " [  59    2]\n",
      " [  64    4]\n",
      " [  66    2]\n",
      " [  74    1]\n",
      " [  78    1]\n",
      " [  81    3]\n",
      " [ 119    1]\n",
      " [ 141    2]\n",
      " [ 157    1]\n",
      " [ 158    2]]\n",
      "[INFO] number of classes excluding background :  14\n",
      "[INFO] feature extraction took 0.5105 seconds\n",
      "[INFO] X-> (1042, 40) \t Y-> (1042,)\n",
      "[INFO] total time taken 20.0448 seconds\n"
     ]
    }
   ],
   "source": [
    "X__, Y__ = get_features_from_filename(\"69\", print_plots=False, print_info=True)"
   ]
  },
  {
   "cell_type": "code",
   "execution_count": 18,
   "metadata": {},
   "outputs": [
    {
     "name": "stdout",
     "output_type": "stream",
     "text": [
      "[INFO] unique label classes: [  0   2   4  21  64  74  85 119 144 157 158]\n",
      "[INFO] number of unique label classes: 11\n",
      "[INFO] all images loaded in 1.9989s\n",
      "[INFO] using *quality* selective search\n",
      "[INFO] total number of region proposals: 3184\n",
      "[INFO] basic region proposal took 8.9336 seconds\n",
      "[INFO] label and score calculation took 2.2131s\n",
      "[INFO] number of boxes after supression: 529\n",
      "[INFO] non-maximum supression took 0.7549s\n",
      "[INFO] classes and their counts:\n",
      "[[  0 508]\n",
      " [  2   1]\n",
      " [  4   1]\n",
      " [ 21   2]\n",
      " [ 64   6]\n",
      " [ 74   2]\n",
      " [ 85   1]\n",
      " [119   3]\n",
      " [144   2]\n",
      " [157   2]\n",
      " [158   1]]\n",
      "[INFO] number of classes excluding background :  10\n",
      "[INFO] feature extraction took 0.2870 seconds\n",
      "[INFO] X-> (529, 40) \t Y-> (529,)\n",
      "[INFO] total time taken 14.1878 seconds\n"
     ]
    }
   ],
   "source": [
    "X__, Y__ = get_features_from_filename(\"72\", print_plots=False, print_info=True)"
   ]
  }
 ],
 "metadata": {
  "kernelspec": {
   "display_name": "base",
   "language": "python",
   "name": "python3"
  },
  "language_info": {
   "codemirror_mode": {
    "name": "ipython",
    "version": 3
   },
   "file_extension": ".py",
   "mimetype": "text/x-python",
   "name": "python",
   "nbconvert_exporter": "python",
   "pygments_lexer": "ipython3",
   "version": "3.10.9"
  },
  "orig_nbformat": 4
 },
 "nbformat": 4,
 "nbformat_minor": 2
}
