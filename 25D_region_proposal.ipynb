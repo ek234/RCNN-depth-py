{
 "cells": [
  {
   "cell_type": "code",
   "execution_count": 6,
   "metadata": {},
   "outputs": [
    {
     "ename": "ModuleNotFoundError",
     "evalue": "No module named 'redwood_3dscan'",
     "output_type": "error",
     "traceback": [
      "\u001b[0;31m---------------------------------------------------------------------------\u001b[0m",
      "\u001b[0;31mModuleNotFoundError\u001b[0m                       Traceback (most recent call last)",
      "\u001b[0;32m/var/folders/55/gk05zk9j6596lk4gv9p8sk680000gn/T/ipykernel_52936/2998169378.py\u001b[0m in \u001b[0;36m<module>\u001b[0;34m\u001b[0m\n\u001b[1;32m      2\u001b[0m \u001b[0;32mimport\u001b[0m \u001b[0mopen3d\u001b[0m \u001b[0;32mas\u001b[0m \u001b[0mo3d\u001b[0m\u001b[0;34m\u001b[0m\u001b[0;34m\u001b[0m\u001b[0m\n\u001b[1;32m      3\u001b[0m \u001b[0;32mfrom\u001b[0m \u001b[0mscipy\u001b[0m\u001b[0;34m.\u001b[0m\u001b[0msignal\u001b[0m \u001b[0;32mimport\u001b[0m \u001b[0mconvolve2d\u001b[0m\u001b[0;34m\u001b[0m\u001b[0;34m\u001b[0m\u001b[0m\n\u001b[0;32m----> 4\u001b[0;31m \u001b[0;32mimport\u001b[0m \u001b[0mredwood_3dscan\u001b[0m \u001b[0;32mas\u001b[0m \u001b[0mrws\u001b[0m\u001b[0;34m\u001b[0m\u001b[0;34m\u001b[0m\u001b[0m\n\u001b[0m\u001b[1;32m      5\u001b[0m \u001b[0;32mimport\u001b[0m \u001b[0mcv2\u001b[0m\u001b[0;34m\u001b[0m\u001b[0;34m\u001b[0m\u001b[0m\n",
      "\u001b[0;31mModuleNotFoundError\u001b[0m: No module named 'redwood_3dscan'"
     ]
    }
   ],
   "source": [
    "import numpy as np\n",
    "import open3d as o3d\n",
    "from scipy.signal import convolve2d\n",
    "import redwood_3dscan as rws\n",
    "import cv2"
   ]
  },
  {
   "cell_type": "code",
   "execution_count": 3,
   "metadata": {},
   "outputs": [],
   "source": [
    "# CONSTANTS\n",
    "\n",
    "# RGB Intrinsic Parameters\n",
    "fx_rgb = 5.1885790117450188e+02\n",
    "fy_rgb = 5.1946961112127485e+02\n",
    "cx_rgb = 3.2558244941119034e+02\n",
    "cy_rgb = 2.5373616633400465e+02\n",
    "\n",
    "# RGB Distortion Parameters\n",
    "k1_rgb =  2.0796615318809061e-01\n",
    "k2_rgb = -5.8613825163911781e-01\n",
    "p1_rgb = 7.2231363135888329e-04\n",
    "p2_rgb = 1.0479627195765181e-03\n",
    "k3_rgb = 4.9856986684705107e-01\n",
    "\n",
    "# Depth Intrinsic Parameters\n",
    "fx_d = 5.8262448167737955e+02\n",
    "fy_d = 5.8269103270988637e+02\n",
    "cx_d = 3.1304475870804731e+02\n",
    "cy_d = 2.3844389626620386e+02\n",
    "\n",
    "# RGB Distortion Parameters\n",
    "k1_d = -9.9897236553084481e-02\n",
    "k2_d = 3.9065324602765344e-01\n",
    "p1_d = 1.9290592870229277e-03\n",
    "p2_d = -1.9422022475975055e-03\n",
    "k3_d = -5.1031725053400578e-01"
   ]
  },
  {
   "attachments": {},
   "cell_type": "markdown",
   "metadata": {},
   "source": [
    "### Loading sample images"
   ]
  },
  {
   "cell_type": "code",
   "execution_count": null,
   "metadata": {},
   "outputs": [],
   "source": []
  },
  {
   "attachments": {},
   "cell_type": "markdown",
   "metadata": {},
   "source": [
    "### Normal Gradients"
   ]
  },
  {
   "cell_type": "code",
   "execution_count": 5,
   "metadata": {},
   "outputs": [],
   "source": [
    "def get_normal_gradients(path, radius=3, max_nn=30):\n",
    "    img = o3d.io.read_image(path)\n",
    "    intrinsics = o3d.camera.PinholeCameraIntrinsic(\n",
    "        width = img.width,\n",
    "        height = img.height,\n",
    "        fx = fx_rgb,\n",
    "        fy = fy_rgb,\n",
    "        cx = cx_rgb,\n",
    "        cy = cy_rgb\n",
    "    )\n",
    "\n",
    "    # point cloud\n",
    "    pc = o3d.geometry.PointCloud.create_from_rgbd_image(\n",
    "        img, intrinsics\n",
    "    )\n",
    "\n",
    "    # getting surface normals\n",
    "    pc.estimate_normals(\n",
    "        search_params = o3d.geometry.KDTreeSearchParamHybrid(\n",
    "            radius=radius, max_nn=max_nn\n",
    "        )\n",
    "    )\n",
    "\n",
    "    normals = np.asarray(pc.normals)\n",
    "    grad_x = convolve2d(normals[:, :, 0], [[-1, 0, 1]], mode=\"same\", boundary=\"symm\")\n",
    "    grad_y = convolve2d(normals[:, :, 1], [[[-1], [0], [1]]], mode=\"same\", boundary=\"symm\")\n",
    "    grad_z = convolve2d(normals[:, :, 2], [[-1, 0, 1]], mode=\"same\", boundary=\"symm\")\n",
    "\n",
    "    # check this\n",
    "    normal_gradients = np.stack([grad_x, grad_y, grad_z], axis=2)\n",
    "\n",
    "    return normal_gradients"
   ]
  },
  {
   "attachments": {},
   "cell_type": "markdown",
   "metadata": {},
   "source": [
    "### Richer appearance"
   ]
  },
  {
   "cell_type": "code",
   "execution_count": null,
   "metadata": {},
   "outputs": [],
   "source": [
    "def richer_appearance(path):\n",
    "    image = cv2.imread(path)\n",
    "    # keep a copy of the original image\n",
    "    orig_image = image.copy()\n",
    "    # convert to RGB image and convert to float32\n",
    "    image = cv2.cvtColor(image, cv2.COLOR_BGR2RGB)\n",
    "    image = image.astype(np.float32) / 255.0\n",
    "\n",
    "    edge_detector = cv2.ximgproc.createStructuredEdgeDetection('models/structured_forests.yml')\n",
    "    # detect the edges\n",
    "    edges = edge_detector.detectEdges(image)"
   ]
  }
 ],
 "metadata": {
  "kernelspec": {
   "display_name": "cv",
   "language": "python",
   "name": "python3"
  },
  "language_info": {
   "codemirror_mode": {
    "name": "ipython",
    "version": 3
   },
   "file_extension": ".py",
   "mimetype": "text/x-python",
   "name": "python",
   "nbconvert_exporter": "python",
   "pygments_lexer": "ipython3",
   "version": "3.7.16"
  },
  "orig_nbformat": 4
 },
 "nbformat": 4,
 "nbformat_minor": 2
}
