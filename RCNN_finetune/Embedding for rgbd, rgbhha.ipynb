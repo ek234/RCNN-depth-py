{
 "cells": [
  {
   "cell_type": "code",
   "execution_count": 28,
   "id": "7d892ffd-b796-48d5-9f23-86178600fe9d",
   "metadata": {
    "tags": []
   },
   "outputs": [],
   "source": [
    "import torch\n",
    "from tqdm import tqdm\n",
    "import numpy as np\n",
    "import pandas as pd\n",
    "import torchvision\n",
    "from torchvision.models.detection import MaskRCNN"
   ]
  },
  {
   "cell_type": "code",
   "execution_count": 27,
   "id": "236de836-bc52-41d0-ba99-fae899e95987",
   "metadata": {
    "tags": []
   },
   "outputs": [
    {
     "name": "stderr",
     "output_type": "stream",
     "text": [
      "/home2/rishabhk/apps/miniconda3/envs/NLP/lib/python3.9/site-packages/torchvision/models/_utils.py:208: UserWarning: The parameter 'pretrained' is deprecated since 0.13 and may be removed in the future, please use 'weights' instead.\n",
      "  warnings.warn(\n",
      "/home2/rishabhk/apps/miniconda3/envs/NLP/lib/python3.9/site-packages/torchvision/models/_utils.py:223: UserWarning: Arguments other than a weight enum or `None` for 'weights' are deprecated since 0.13 and may be removed in the future. The current behavior is equivalent to passing `weights=MaskRCNN_ResNet50_FPN_Weights.COCO_V1`. You can also use `weights=MaskRCNN_ResNet50_FPN_Weights.DEFAULT` to get the most up-to-date weights.\n",
      "  warnings.warn(msg)\n"
     ]
    }
   ],
   "source": [
    "# Load the pre-trained Mask R-CNN model\n",
    "model = torchvision.models.detection.maskrcnn_resnet50_fpn(pretrained=True)"
   ]
  },
  {
   "cell_type": "code",
   "execution_count": 29,
   "id": "de78b516-e258-45ff-947e-df337a24be7b",
   "metadata": {
    "tags": []
   },
   "outputs": [
    {
     "name": "stderr",
     "output_type": "stream",
     "text": [
      "100%|███████████████████████████████████████| 1449/1449 [09:07<00:00,  2.65it/s]\n"
     ]
    }
   ],
   "source": [
    "ret = []\n",
    "for i in tqdm(range(1449)):\n",
    "    im = np.load(\"../../cv_corpus/nyudv2/rgb/\" + str(i) + \".npy\")/255\n",
    "    im = im.reshape(3,480,640).tolist()\n",
    "    feature = model.backbone(torch.tensor(im))[\"pool\"][0].reshape(256*8*10).tolist()\n",
    "    ret.append(feature)"
   ]
  },
  {
   "cell_type": "code",
   "execution_count": 30,
   "id": "3ca26ee0-b350-4546-9fc6-51b0ab9c7ff7",
   "metadata": {},
   "outputs": [],
   "source": [
    "img = [i for i in range(1449)]"
   ]
  },
  {
   "cell_type": "code",
   "execution_count": 31,
   "id": "8933d34f-323c-4d34-85c3-e36fd49af9e0",
   "metadata": {
    "tags": []
   },
   "outputs": [],
   "source": [
    "df = pd.DataFrame(list(zip(img, ret)), columns =['Img_id', 'Embedding'])"
   ]
  },
  {
   "cell_type": "code",
   "execution_count": 33,
   "id": "348c5827-6462-49a8-a91e-8efa39a69c08",
   "metadata": {
    "tags": []
   },
   "outputs": [],
   "source": [
    "df.to_csv(\"./outs/RGB_emb.csv\")"
   ]
  }
 ],
 "metadata": {
  "kernelspec": {
   "display_name": "Python 3 (ipykernel)",
   "language": "python",
   "name": "python3"
  },
  "language_info": {
   "codemirror_mode": {
    "name": "ipython",
    "version": 3
   },
   "file_extension": ".py",
   "mimetype": "text/x-python",
   "name": "python",
   "nbconvert_exporter": "python",
   "pygments_lexer": "ipython3",
   "version": "3.9.16"
  }
 },
 "nbformat": 4,
 "nbformat_minor": 5
}
