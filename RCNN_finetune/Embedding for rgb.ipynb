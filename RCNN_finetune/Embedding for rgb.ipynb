{
 "cells": [
  {
   "cell_type": "code",
   "execution_count": 1,
   "id": "7d892ffd-b796-48d5-9f23-86178600fe9d",
   "metadata": {
    "tags": []
   },
   "outputs": [],
   "source": [
    "import torch\n",
    "from tqdm import tqdm\n",
    "import numpy as np\n",
    "import pandas as pd\n",
    "import torchvision\n",
    "from torchvision.models.detection import MaskRCNN"
   ]
  },
  {
   "cell_type": "code",
   "execution_count": 2,
   "id": "236de836-bc52-41d0-ba99-fae899e95987",
   "metadata": {
    "tags": []
   },
   "outputs": [
    {
     "name": "stdout",
     "output_type": "stream",
     "text": [
      "\n"
     ]
    }
   ],
   "source": [
    "# Load the pre-trained Mask R-CNN model\n",
    "model = torch.load(\"./finetuned_rcnn.pt\")\n",
    "model.eval()\n",
    "print()"
   ]
  },
  {
   "cell_type": "markdown",
   "id": "670934c8-b48f-4eab-87d6-1cc56a892b5a",
   "metadata": {},
   "source": [
    "# RGB with HHA"
   ]
  },
  {
   "cell_type": "code",
   "execution_count": 3,
   "id": "de78b516-e258-45ff-947e-df337a24be7b",
   "metadata": {
    "tags": []
   },
   "outputs": [
    {
     "name": "stderr",
     "output_type": "stream",
     "text": [
      "100%|███████████████████████████████████████| 1449/1449 [19:06<00:00,  1.26it/s]\n"
     ]
    }
   ],
   "source": [
    "ret = []\n",
    "for i in tqdm(range(1449)):\n",
    "    rgb = np.load(\"../../cv_corpus/nyudv2/rgb/\" + str(i) + \".npy\")/255\n",
    "    hha = np.load(\"../../cv_corpus/nyudv2/hha/\" + str(i) + \".npy\")/255\n",
    "    rgb = rgb.reshape(3,480,640).tolist()\n",
    "    hha = hha.reshape(3,480,640).tolist()\n",
    "    feature_rgb = model.backbone(torch.tensor(rgb))[\"pool\"][0].reshape(256*8*10).tolist()\n",
    "    feature_hha = model.backbone(torch.tensor(hha))[\"pool\"][0].reshape(256*8*10).tolist()\n",
    "    ret.append(feature_rgb + feature_hha)"
   ]
  },
  {
   "cell_type": "code",
   "execution_count": 4,
   "id": "3ca26ee0-b350-4546-9fc6-51b0ab9c7ff7",
   "metadata": {},
   "outputs": [],
   "source": [
    "img = [i for i in range(1449)]"
   ]
  },
  {
   "cell_type": "code",
   "execution_count": 5,
   "id": "8933d34f-323c-4d34-85c3-e36fd49af9e0",
   "metadata": {
    "tags": []
   },
   "outputs": [],
   "source": [
    "df_hha = pd.DataFrame(list(zip(img, ret)), columns =['Img_id', 'Embedding'])"
   ]
  },
  {
   "cell_type": "code",
   "execution_count": 7,
   "id": "348c5827-6462-49a8-a91e-8efa39a69c08",
   "metadata": {
    "tags": []
   },
   "outputs": [],
   "source": [
    "df_hha.to_csv(\"./outs/RGBHHA_emb.csv\")"
   ]
  },
  {
   "cell_type": "markdown",
   "id": "34ab0dcb-add7-4e36-9ff6-5edd3c29f995",
   "metadata": {},
   "source": [
    "# RGB with 3*D"
   ]
  },
  {
   "cell_type": "code",
   "execution_count": 10,
   "id": "52cefacb-72e9-4af2-8f6e-27a6c1939f23",
   "metadata": {},
   "outputs": [
    {
     "name": "stderr",
     "output_type": "stream",
     "text": [
      "100%|███████████████████████████████████████| 1449/1449 [19:12<00:00,  1.26it/s]\n"
     ]
    }
   ],
   "source": [
    "ret = []\n",
    "for i in tqdm(range(1449)):\n",
    "    rgb = np.load(\"../../cv_corpus/nyudv2/rgb/\" + str(i) + \".npy\")/255\n",
    "    dep = np.load(\"../../cv_corpus/nyudv2/depth/\" + str(i) + \".npy\")/255\n",
    "    rgb = rgb.reshape(3,480,640).tolist()\n",
    "    dep = dep.reshape(1,480,640).tolist()*3\n",
    "    feature_rgb = model.backbone(torch.tensor(rgb))[\"pool\"][0].reshape(256*8*10).tolist()\n",
    "    feature_dep = model.backbone(torch.tensor(dep))[\"pool\"][0].reshape(256*8*10).tolist()\n",
    "    ret.append(feature_rgb + feature_dep)"
   ]
  },
  {
   "cell_type": "code",
   "execution_count": 11,
   "id": "5189692c-45c9-4934-aa30-b5346b493f59",
   "metadata": {
    "tags": []
   },
   "outputs": [],
   "source": [
    "df_dep = pd.DataFrame(list(zip(img, ret)), columns =['Img_id', 'Embedding'])"
   ]
  },
  {
   "cell_type": "code",
   "execution_count": 12,
   "id": "c2233003-2953-4cc1-9ed7-d308a3906ae8",
   "metadata": {
    "tags": []
   },
   "outputs": [],
   "source": [
    "df_dep.to_csv(\"./outs/RGBD_emb.csv\")"
   ]
  },
  {
   "cell_type": "code",
   "execution_count": null,
   "id": "4009e324-e38d-43a5-98ac-4b9a35b6f05f",
   "metadata": {},
   "outputs": [],
   "source": []
  }
 ],
 "metadata": {
  "kernelspec": {
   "display_name": "Python 3 (ipykernel)",
   "language": "python",
   "name": "python3"
  },
  "language_info": {
   "codemirror_mode": {
    "name": "ipython",
    "version": 3
   },
   "file_extension": ".py",
   "mimetype": "text/x-python",
   "name": "python",
   "nbconvert_exporter": "python",
   "pygments_lexer": "ipython3",
   "version": "3.9.16"
  }
 },
 "nbformat": 4,
 "nbformat_minor": 5
}
