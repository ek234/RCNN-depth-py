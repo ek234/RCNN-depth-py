{
 "cells": [
  {
   "cell_type": "code",
   "execution_count": 1,
   "id": "166fae98-dae2-4694-9c1f-27ed08c3c6e9",
   "metadata": {},
   "outputs": [],
   "source": [
    "import torch\n",
    "import numpy as np\n",
    "import torchvision\n",
    "from torchvision.models.detection import MaskRCNN"
   ]
  },
  {
   "cell_type": "code",
   "execution_count": 2,
   "id": "71bc2b01-b6d6-4410-bf8b-d2d0517dd302",
   "metadata": {},
   "outputs": [
    {
     "name": "stderr",
     "output_type": "stream",
     "text": [
      "/home2/rishabhk/apps/miniconda3/envs/NLP/lib/python3.9/site-packages/torchvision/models/_utils.py:208: UserWarning: The parameter 'pretrained' is deprecated since 0.13 and may be removed in the future, please use 'weights' instead.\n",
      "  warnings.warn(\n",
      "/home2/rishabhk/apps/miniconda3/envs/NLP/lib/python3.9/site-packages/torchvision/models/_utils.py:223: UserWarning: Arguments other than a weight enum or `None` for 'weights' are deprecated since 0.13 and may be removed in the future. The current behavior is equivalent to passing `weights=MaskRCNN_ResNet50_FPN_Weights.COCO_V1`. You can also use `weights=MaskRCNN_ResNet50_FPN_Weights.DEFAULT` to get the most up-to-date weights.\n",
      "  warnings.warn(msg)\n"
     ]
    }
   ],
   "source": [
    "# Load the pre-trained Mask R-CNN model\n",
    "model = torchvision.models.detection.maskrcnn_resnet50_fpn(pretrained=True)"
   ]
  },
  {
   "cell_type": "code",
   "execution_count": 3,
   "id": "34c9e5c5-f4a9-4492-bb83-0b4ff0de9716",
   "metadata": {
    "tags": []
   },
   "outputs": [],
   "source": [
    "# Load the pre-trained Mask R-CNN model\n",
    "model = torchvision.models.detection.maskrcnn_resnet50_fpn(pretrained=True)\n",
    "\n",
    "# Remove the mask prediction branch\n",
    "del model.roi_heads.mask_head\n",
    "del model.roi_heads.mask_predictor\n",
    "del model.roi_heads.mask_roi_pool\n",
    "\n",
    "# Replace the mask_roi_pool layer with roi_pool layer\n",
    "model.roi_heads.mask_roi_pool = model.roi_heads.box_roi_pool\n",
    "\n",
    "# Replace the output layer with a new layer for your specific task\n",
    "num_classes = 40 # replace with the number of classes in your dataset\n",
    "in_features = model.roi_heads.box_predictor.cls_score.in_features\n",
    "model.roi_heads.box_predictor = torchvision.models.detection.faster_rcnn.FastRCNNPredictor(in_features, num_classes)\n",
    "\n",
    "# Freeze the remaining layers\n",
    "for param in model.parameters():\n",
    "    param.requires_grad = False\n",
    "model.roi_heads.box_predictor.cls_score.requires_grad = True\n",
    "model.roi_heads.box_predictor.bbox_pred.requires_grad = True"
   ]
  },
  {
   "cell_type": "code",
   "execution_count": null,
   "id": "5cdb0cce-6584-4cf6-9184-37be3c93998b",
   "metadata": {},
   "outputs": [],
   "source": [
    "class ImagePixelDataset(Dataset):\n",
    "    def __init__(self, root_dir, image_folder, label_folder, transform=None):\n",
    "        self.root_dir = root_dir\n",
    "        self.image_folder = image_folder\n",
    "        self.label_folder = label_folder\n",
    "        self.transform = transform\n",
    "        self.image_list = os.listdir(os.path.join(root_dir, image_folder))\n",
    "        self.label_list = os.listdir(os.path.join(root_dir, label_folder))\n",
    "\n",
    "    def __len__(self):\n",
    "        return len(self.image_list)\n",
    "\n",
    "    def __getitem__(self, idx):\n",
    "        image_path = os.path.join(self.root_dir, self.image_folder, self.image_list[idx])\n",
    "        label_path = os.path.join(self.root_dir, self.label_folder, self.label_list[idx])\n",
    "        image = Image.open(image_path)\n",
    "        label = Image.open(label_path)\n",
    "\n",
    "        if self.transform:\n",
    "            image = self.transform(image)\n",
    "            label = self.transform(label)\n",
    "\n",
    "        return image, label"
   ]
  },
  {
   "cell_type": "code",
   "execution_count": null,
   "id": "61e06c4c-e978-4d42-83ab-019c50c0f5d9",
   "metadata": {},
   "outputs": [],
   "source": [
    "root_dir = '../../cv_corpus/nyudv2/'\n",
    "image_folder = 'hha'\n",
    "label_folder = 'labels'\n",
    "\n",
    "transform = ToTensor()\n",
    "\n",
    "dataset = ImagePixelDataset(root_dir, image_folder, label_folder, transform=transform)\n",
    "\n",
    "dataloader = DataLoader(dataset, batch_size=1, shuffle=False)"
   ]
  },
  {
   "cell_type": "code",
   "execution_count": null,
   "id": "1c477ed5-4ca8-4e14-8fb3-90b815a7887e",
   "metadata": {},
   "outputs": [],
   "source": [
    "# Train the model\n",
    "for epoch in range(5):  # Number of epochs to train for\n",
    "    running_loss = 0.0\n",
    "    for i, data in enumerate(trainloader, 0):\n",
    "        # Get the inputs and labels\n",
    "        inputs, labels = data\n",
    "\n",
    "        # Zero the parameter gradients\n",
    "        optimizer.zero_grad()\n",
    "\n",
    "        # Forward pass\n",
    "        outputs = model(inputs)\n",
    "\n",
    "        # Compute the loss\n",
    "        loss = criterion(outputs['out'], labels)\n",
    "\n",
    "        # Backward pass and optimize\n",
    "        loss.backward()\n",
    "        optimizer.step()\n",
    "\n",
    "        # Print statistics\n",
    "        running_loss += loss.item()\n",
    "        if i % 2000 == 1999:  # Print every 2000 mini-batches\n",
    "            print('[%d, %5d] loss: %.3f' % (epoch + 1, i + 1, running_loss / 2000))\n",
    "            running_loss = 0.0\n",
    "\n",
    "print('Finished training')\n"
   ]
  },
  {
   "cell_type": "code",
   "execution_count": null,
   "id": "09587ae0-a8ec-4579-8b29-b1aa4eced4c4",
   "metadata": {},
   "outputs": [],
   "source": [
    "torch.save(model, \"./finetuned_rcnn.pt\")"
   ]
  }
 ],
 "metadata": {
  "kernelspec": {
   "display_name": "Python 3 (ipykernel)",
   "language": "python",
   "name": "python3"
  },
  "language_info": {
   "codemirror_mode": {
    "name": "ipython",
    "version": 3
   },
   "file_extension": ".py",
   "mimetype": "text/x-python",
   "name": "python",
   "nbconvert_exporter": "python",
   "pygments_lexer": "ipython3",
   "version": "3.9.16"
  }
 },
 "nbformat": 4,
 "nbformat_minor": 5
}
